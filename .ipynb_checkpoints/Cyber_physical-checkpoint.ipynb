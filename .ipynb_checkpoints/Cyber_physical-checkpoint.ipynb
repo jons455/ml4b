{
 "cells": [
  {
   "cell_type": "code",
   "execution_count": 2,
   "metadata": {},
   "outputs": [
    {
     "name": "stderr",
     "output_type": "stream",
     "text": [
      "[nltk_data] Downloading package stopwords to\n",
      "[nltk_data]     /Users/alexkroeker/nltk_data...\n",
      "[nltk_data]   Package stopwords is already up-to-date!\n"
     ]
    }
   ],
   "source": [
    "import json\n",
    "import matplotlib.pyplot as plt\n",
    "import pandas as pd\n",
    "import numpy as np\n",
    "import matplotlib.pyplot as plt\n",
    "from collections import defaultdict\n",
    "from sklearn.cluster import KMeans\n",
    "import re\n",
    "import preprocessor as p#forming a separate feature for cleaned tweets\n",
    "import string\n",
    "import nltk\n",
    "from nltk.corpus import stopwords\n",
    "nltk.download(\"stopwords\")\n",
    "from sklearn.metrics import adjusted_rand_score\n",
    "from sklearn.feature_extraction.text import TfidfVectorizer"
   ]
  },
  {
   "cell_type": "code",
   "execution_count": 3,
   "metadata": {},
   "outputs": [],
   "source": [
    "data = []\n",
    "for file in range(14):\n",
    "    data.append(open('Tweet-Data/Cyber_Physical_Equivalence_tweets-'+str(2007+file)+'.jl')) "
   ]
  },
  {
   "cell_type": "code",
   "execution_count": 4,
   "metadata": {},
   "outputs": [],
   "source": [
    "doc = []\n",
    "for file in data:\n",
    "    for line in file:\n",
    "        doc.append(json.loads(line))"
   ]
  },
  {
   "cell_type": "code",
   "execution_count": 5,
   "metadata": {},
   "outputs": [],
   "source": [
    "emptyList = []\n",
    "for dict in doc:\n",
    "    emptyList.append(dict['response'])\n"
   ]
  },
  {
   "cell_type": "code",
   "execution_count": 6,
   "metadata": {},
   "outputs": [
    {
     "data": {
      "text/plain": [
       "14"
      ]
     },
     "execution_count": 6,
     "metadata": {},
     "output_type": "execute_result"
    }
   ],
   "source": [
    "len(emptyList)\n"
   ]
  },
  {
   "cell_type": "code",
   "execution_count": 7,
   "metadata": {},
   "outputs": [
    {
     "data": {
      "text/plain": [
       "dict_keys(['meta'])"
      ]
     },
     "execution_count": 7,
     "metadata": {},
     "output_type": "execute_result"
    }
   ],
   "source": [
    "doc[0]['response'].keys()"
   ]
  },
  {
   "cell_type": "code",
   "execution_count": 8,
   "metadata": {},
   "outputs": [],
   "source": [
    "def check(dictionary):\n",
    "    if dictionary['result_count'] == 0: return False\n",
    "    else: return True"
   ]
  },
  {
   "cell_type": "code",
   "execution_count": 9,
   "metadata": {},
   "outputs": [],
   "source": [
    "emptyData = []\n",
    "for dict in emptyList:\n",
    "    if check(dict['meta']): emptyData.append(dict['data'])"
   ]
  },
  {
   "cell_type": "code",
   "execution_count": 10,
   "metadata": {},
   "outputs": [
    {
     "data": {
      "text/plain": [
       "1"
      ]
     },
     "execution_count": 10,
     "metadata": {},
     "output_type": "execute_result"
    }
   ],
   "source": [
    "len(emptyData)\n"
   ]
  },
  {
   "cell_type": "code",
   "execution_count": 11,
   "metadata": {},
   "outputs": [
    {
     "data": {
      "text/html": [
       "<div>\n",
       "<style scoped>\n",
       "    .dataframe tbody tr th:only-of-type {\n",
       "        vertical-align: middle;\n",
       "    }\n",
       "\n",
       "    .dataframe tbody tr th {\n",
       "        vertical-align: top;\n",
       "    }\n",
       "\n",
       "    .dataframe thead th {\n",
       "        text-align: right;\n",
       "    }\n",
       "</style>\n",
       "<table border=\"1\" class=\"dataframe\">\n",
       "  <thead>\n",
       "    <tr style=\"text-align: right;\">\n",
       "      <th></th>\n",
       "      <th>reply_settings</th>\n",
       "      <th>referenced_tweets</th>\n",
       "      <th>source</th>\n",
       "      <th>author_id</th>\n",
       "      <th>lang</th>\n",
       "      <th>entities</th>\n",
       "      <th>context_annotations</th>\n",
       "      <th>in_reply_to_user_id</th>\n",
       "      <th>conversation_id</th>\n",
       "      <th>public_metrics</th>\n",
       "      <th>possibly_sensitive</th>\n",
       "      <th>created_at</th>\n",
       "      <th>id</th>\n",
       "      <th>text</th>\n",
       "    </tr>\n",
       "  </thead>\n",
       "  <tbody>\n",
       "    <tr>\n",
       "      <th>0</th>\n",
       "      <td>everyone</td>\n",
       "      <td>[{'type': 'replied_to', 'id': '881663966338011...</td>\n",
       "      <td>Twitter for Android</td>\n",
       "      <td>985868838</td>\n",
       "      <td>en</td>\n",
       "      <td>{'mentions': [{'start': 0, 'end': 15, 'usernam...</td>\n",
       "      <td>[{'domain': {'id': '65', 'name': 'Interests an...</td>\n",
       "      <td>489475164</td>\n",
       "      <td>787849891271892992</td>\n",
       "      <td>{'retweet_count': 0, 'reply_count': 1, 'like_c...</td>\n",
       "      <td>False</td>\n",
       "      <td>2017-07-03T00:19:28.000Z</td>\n",
       "      <td>881668679984971777</td>\n",
       "      <td>@ColMorrisDavis Even conceding strained cyber/...</td>\n",
       "    </tr>\n",
       "  </tbody>\n",
       "</table>\n",
       "</div>"
      ],
      "text/plain": [
       "  reply_settings                                  referenced_tweets  \\\n",
       "0       everyone  [{'type': 'replied_to', 'id': '881663966338011...   \n",
       "\n",
       "                source  author_id lang  \\\n",
       "0  Twitter for Android  985868838   en   \n",
       "\n",
       "                                            entities  \\\n",
       "0  {'mentions': [{'start': 0, 'end': 15, 'usernam...   \n",
       "\n",
       "                                 context_annotations in_reply_to_user_id  \\\n",
       "0  [{'domain': {'id': '65', 'name': 'Interests an...           489475164   \n",
       "\n",
       "      conversation_id                                     public_metrics  \\\n",
       "0  787849891271892992  {'retweet_count': 0, 'reply_count': 1, 'like_c...   \n",
       "\n",
       "   possibly_sensitive                created_at                  id  \\\n",
       "0               False  2017-07-03T00:19:28.000Z  881668679984971777   \n",
       "\n",
       "                                                text  \n",
       "0  @ColMorrisDavis Even conceding strained cyber/...  "
      ]
     },
     "execution_count": 11,
     "metadata": {},
     "output_type": "execute_result"
    }
   ],
   "source": [
    "pd.DataFrame(emptyData[0])"
   ]
  },
  {
   "cell_type": "code",
   "execution_count": 12,
   "metadata": {},
   "outputs": [],
   "source": [
    "df = pd.DataFrame(emptyData[0])\n",
    "for obj in range(1,len(emptyData)):\n",
    "    df = df.append(pd.DataFrame(emptyData[obj]))\n",
    "# Cyber-Physical zu uninteressant"
   ]
  },
  {
   "cell_type": "code",
   "execution_count": 13,
   "metadata": {},
   "outputs": [
    {
     "data": {
      "text/plain": [
       "(1, 14)"
      ]
     },
     "execution_count": 13,
     "metadata": {},
     "output_type": "execute_result"
    }
   ],
   "source": [
    "df.shape"
   ]
  },
  {
   "cell_type": "code",
   "execution_count": null,
   "metadata": {},
   "outputs": [],
   "source": []
  }
 ],
 "metadata": {
  "kernelspec": {
   "display_name": "Python 3",
   "language": "python",
   "name": "python3"
  },
  "language_info": {
   "codemirror_mode": {
    "name": "ipython",
    "version": 3
   },
   "file_extension": ".py",
   "mimetype": "text/x-python",
   "name": "python",
   "nbconvert_exporter": "python",
   "pygments_lexer": "ipython3",
   "version": "3.8.5"
  }
 },
 "nbformat": 4,
 "nbformat_minor": 4
}
