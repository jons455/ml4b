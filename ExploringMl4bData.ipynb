{
 "cells": [
  {
   "cell_type": "code",
   "execution_count": 3,
   "metadata": {},
   "outputs": [],
   "source": [
    "import json\n",
    "import matplotlib.pyplot as plt\n",
    "import pandas as pd\n",
    "import json"
   ]
  },
  {
   "cell_type": "markdown",
   "metadata": {},
   "source": [
    "<h1>Data Exploring</h1>"
   ]
  },
  {
   "cell_type": "code",
   "execution_count": 4,
   "metadata": {},
   "outputs": [],
   "source": [
    "data = open(\"../Tweet-Data/digital_twin_tweets-2020.jl\")"
   ]
  },
  {
   "cell_type": "code",
   "execution_count": 5,
   "metadata": {},
   "outputs": [
    {
     "data": {
      "text/plain": [
       "_io.TextIOWrapper"
      ]
     },
     "execution_count": 5,
     "metadata": {},
     "output_type": "execute_result"
    }
   ],
   "source": [
    "type(data)\n"
   ]
  },
  {
   "cell_type": "code",
   "execution_count": 6,
   "metadata": {},
   "outputs": [],
   "source": [
    "for line in data:\n",
    "    doc = json.loads(line)"
   ]
  },
  {
   "cell_type": "code",
   "execution_count": 7,
   "metadata": {},
   "outputs": [
    {
     "data": {
      "text/plain": [
       "dict"
      ]
     },
     "execution_count": 7,
     "metadata": {},
     "output_type": "execute_result"
    }
   ],
   "source": [
    "type(doc)"
   ]
  },
  {
   "cell_type": "code",
   "execution_count": 8,
   "metadata": {},
   "outputs": [
    {
     "data": {
      "text/plain": [
       "dict_keys(['http_status', 'year', 'params', 'response'])"
      ]
     },
     "execution_count": 8,
     "metadata": {},
     "output_type": "execute_result"
    }
   ],
   "source": [
    "doc.keys()\n"
   ]
  },
  {
   "cell_type": "code",
   "execution_count": 9,
   "metadata": {},
   "outputs": [
    {
     "data": {
      "text/plain": [
       "200"
      ]
     },
     "execution_count": 9,
     "metadata": {},
     "output_type": "execute_result"
    }
   ],
   "source": [
    "doc['http_status']"
   ]
  },
  {
   "cell_type": "code",
   "execution_count": 10,
   "metadata": {},
   "outputs": [
    {
     "data": {
      "text/plain": [
       "'2020'"
      ]
     },
     "execution_count": 10,
     "metadata": {},
     "output_type": "execute_result"
    }
   ],
   "source": [
    "doc['year']"
   ]
  },
  {
   "cell_type": "code",
   "execution_count": 11,
   "metadata": {},
   "outputs": [
    {
     "data": {
      "text/plain": [
       "[['query',\n",
       "  '#digitaltwin OR #digital_twin OR \"digital twin\" OR \"digital twins\" OR #digital_twins OR #digitaltwins'],\n",
       " ['max_results', '500'],\n",
       " ['start_time', '2020-01-01T00:00:00Z'],\n",
       " ['end_time', '2020-12-31T11:59:59Z'],\n",
       " ['tweet.fields',\n",
       "  'attachments,author_id,context_annotations,conversation_id,created_at,entities,geo,id,in_reply_to_user_id,lang,possibly_sensitive,public_metrics,referenced_tweets,reply_settings,source,text,withheld'],\n",
       " ['expansions',\n",
       "  'author_id,referenced_tweets.id,referenced_tweets.id.author_id,entities.mentions.username,attachments.poll_ids,attachments.media_keys,in_reply_to_user_id,geo.place_id'],\n",
       " ['media.fields',\n",
       "  'duration_ms,height,media_key,preview_image_url,public_metrics,type,url,width'],\n",
       " ['place.fields',\n",
       "  'contained_within,country,country_code,full_name,geo,id,name,place_type'],\n",
       " ['poll.fields', 'duration_minutes,end_datetime,id,options,voting_status'],\n",
       " ['user.fields',\n",
       "  'created_at,description,entities,id,location,name,pinned_tweet_id,profile_image_url,protected,public_metrics,url,username,verified,withheld'],\n",
       " ['next_token', 'b26v89c19zqg8o3fo6yevux0euydkl36wi8xk0fioc4n1']]"
      ]
     },
     "execution_count": 11,
     "metadata": {},
     "output_type": "execute_result"
    }
   ],
   "source": [
    "doc['params']\n"
   ]
  },
  {
   "cell_type": "markdown",
   "metadata": {},
   "source": [
    "<h1>Response of Request</h1>"
   ]
  },
  {
   "cell_type": "code",
   "execution_count": 12,
   "metadata": {},
   "outputs": [
    {
     "data": {
      "text/plain": [
       "dict_keys(['data', 'includes', 'errors', 'meta'])"
      ]
     },
     "execution_count": 12,
     "metadata": {},
     "output_type": "execute_result"
    }
   ],
   "source": [
    "response = doc['response']\n",
    "response.keys()"
   ]
  },
  {
   "cell_type": "code",
   "execution_count": 13,
   "metadata": {},
   "outputs": [
    {
     "data": {
      "text/plain": [
       "[{'detail': 'Could not find tweet with referenced_tweets.id: [1212572346998874112].',\n",
       "  'title': 'Not Found Error',\n",
       "  'resource_type': 'tweet',\n",
       "  'parameter': 'referenced_tweets.id',\n",
       "  'value': '1212572346998874112',\n",
       "  'type': 'https://api.twitter.com/2/problems/resource-not-found'},\n",
       " {'detail': 'Could not find tweet with referenced_tweets.id: [1212558559013036034].',\n",
       "  'title': 'Not Found Error',\n",
       "  'resource_type': 'tweet',\n",
       "  'parameter': 'referenced_tweets.id',\n",
       "  'value': '1212558559013036034',\n",
       "  'type': 'https://api.twitter.com/2/problems/resource-not-found'},\n",
       " {'detail': 'Could not find tweet with referenced_tweets.id: [1212548159970275330].',\n",
       "  'title': 'Not Found Error',\n",
       "  'resource_type': 'tweet',\n",
       "  'parameter': 'referenced_tweets.id',\n",
       "  'value': '1212548159970275330',\n",
       "  'type': 'https://api.twitter.com/2/problems/resource-not-found'},\n",
       " {'parameter': 'entities.mentions.username',\n",
       "  'value': '3DSAcademy',\n",
       "  'detail': 'User has been suspended: [3DSAcademy].',\n",
       "  'title': 'Forbidden',\n",
       "  'resource_type': 'user',\n",
       "  'type': 'https://api.twitter.com/2/problems/resource-not-found'}]"
      ]
     },
     "execution_count": 13,
     "metadata": {},
     "output_type": "execute_result"
    }
   ],
   "source": [
    "response['errors']"
   ]
  },
  {
   "cell_type": "code",
   "execution_count": 14,
   "metadata": {},
   "outputs": [
    {
     "data": {
      "text/plain": [
       "{'newest_id': '1212738038679449606',\n",
       " 'oldest_id': '1212163451440660481',\n",
       " 'result_count': 290}"
      ]
     },
     "execution_count": 14,
     "metadata": {},
     "output_type": "execute_result"
    }
   ],
   "source": [
    "response['meta']"
   ]
  },
  {
   "cell_type": "markdown",
   "metadata": {},
   "source": [
    "<h2>Includes of tweets</h2>"
   ]
  },
  {
   "cell_type": "code",
   "execution_count": 15,
   "metadata": {},
   "outputs": [
    {
     "data": {
      "text/plain": [
       "dict_keys(['media', 'users', 'tweets', 'places'])"
      ]
     },
     "execution_count": 15,
     "metadata": {},
     "output_type": "execute_result"
    }
   ],
   "source": [
    "response['includes'].keys()"
   ]
  },
  {
   "cell_type": "code",
   "execution_count": 16,
   "metadata": {},
   "outputs": [
    {
     "data": {
      "text/plain": [
       "list"
      ]
     },
     "execution_count": 16,
     "metadata": {},
     "output_type": "execute_result"
    }
   ],
   "source": [
    "type(response['includes']['media'])"
   ]
  },
  {
   "cell_type": "code",
   "execution_count": 17,
   "metadata": {},
   "outputs": [
    {
     "data": {
      "text/html": [
       "<div>\n",
       "<style scoped>\n",
       "    .dataframe tbody tr th:only-of-type {\n",
       "        vertical-align: middle;\n",
       "    }\n",
       "\n",
       "    .dataframe tbody tr th {\n",
       "        vertical-align: top;\n",
       "    }\n",
       "\n",
       "    .dataframe thead th {\n",
       "        text-align: right;\n",
       "    }\n",
       "</style>\n",
       "<table border=\"1\" class=\"dataframe\">\n",
       "  <thead>\n",
       "    <tr style=\"text-align: right;\">\n",
       "      <th></th>\n",
       "      <th>country_code</th>\n",
       "      <th>place_type</th>\n",
       "      <th>country</th>\n",
       "      <th>name</th>\n",
       "      <th>geo</th>\n",
       "      <th>full_name</th>\n",
       "      <th>id</th>\n",
       "    </tr>\n",
       "  </thead>\n",
       "  <tbody>\n",
       "    <tr>\n",
       "      <th>0</th>\n",
       "      <td>JP</td>\n",
       "      <td>city</td>\n",
       "      <td>Japan</td>\n",
       "      <td>世田谷区</td>\n",
       "      <td>{'type': 'Feature', 'bbox': [139.582428, 35.59...</td>\n",
       "      <td>東京 世田谷区</td>\n",
       "      <td>1b0cfebe3424e14f</td>\n",
       "    </tr>\n",
       "    <tr>\n",
       "      <th>1</th>\n",
       "      <td>AT</td>\n",
       "      <td>city</td>\n",
       "      <td>Österreich</td>\n",
       "      <td>Linz</td>\n",
       "      <td>{'type': 'Feature', 'bbox': [14.245709, 48.211...</td>\n",
       "      <td>Linz, Österreich</td>\n",
       "      <td>0036224b2a183fcf</td>\n",
       "    </tr>\n",
       "  </tbody>\n",
       "</table>\n",
       "</div>"
      ],
      "text/plain": [
       "  country_code place_type     country  name  \\\n",
       "0           JP       city       Japan  世田谷区   \n",
       "1           AT       city  Österreich  Linz   \n",
       "\n",
       "                                                 geo         full_name  \\\n",
       "0  {'type': 'Feature', 'bbox': [139.582428, 35.59...           東京 世田谷区   \n",
       "1  {'type': 'Feature', 'bbox': [14.245709, 48.211...  Linz, Österreich   \n",
       "\n",
       "                 id  \n",
       "0  1b0cfebe3424e14f  \n",
       "1  0036224b2a183fcf  "
      ]
     },
     "execution_count": 17,
     "metadata": {},
     "output_type": "execute_result"
    }
   ],
   "source": [
    "pd.DataFrame(response['includes']['places'])\n"
   ]
  },
  {
   "cell_type": "code",
   "execution_count": 18,
   "metadata": {},
   "outputs": [
    {
     "data": {
      "text/html": [
       "<div>\n",
       "<style scoped>\n",
       "    .dataframe tbody tr th:only-of-type {\n",
       "        vertical-align: middle;\n",
       "    }\n",
       "\n",
       "    .dataframe tbody tr th {\n",
       "        vertical-align: top;\n",
       "    }\n",
       "\n",
       "    .dataframe thead th {\n",
       "        text-align: right;\n",
       "    }\n",
       "</style>\n",
       "<table border=\"1\" class=\"dataframe\">\n",
       "  <thead>\n",
       "    <tr style=\"text-align: right;\">\n",
       "      <th></th>\n",
       "      <th>username</th>\n",
       "      <th>public_metrics</th>\n",
       "      <th>entities</th>\n",
       "      <th>url</th>\n",
       "      <th>protected</th>\n",
       "      <th>location</th>\n",
       "      <th>profile_image_url</th>\n",
       "      <th>created_at</th>\n",
       "      <th>name</th>\n",
       "      <th>verified</th>\n",
       "      <th>description</th>\n",
       "      <th>id</th>\n",
       "      <th>pinned_tweet_id</th>\n",
       "    </tr>\n",
       "  </thead>\n",
       "  <tbody>\n",
       "    <tr>\n",
       "      <th>0</th>\n",
       "      <td>prolimglobal</td>\n",
       "      <td>{'followers_count': 227, 'following_count': 18...</td>\n",
       "      <td>{'url': {'urls': [{'start': 0, 'end': 20, 'url...</td>\n",
       "      <td>http://t.co/QtJHdWgC</td>\n",
       "      <td>False</td>\n",
       "      <td>Farmington Hills, MI</td>\n",
       "      <td>https://pbs.twimg.com/profile_images/106961374...</td>\n",
       "      <td>2012-09-05T13:23:40.000Z</td>\n",
       "      <td>PROLIM Corporation</td>\n",
       "      <td>False</td>\n",
       "      <td>IT Consulting, PLM, Engineering Services.</td>\n",
       "      <td>804599257</td>\n",
       "      <td>NaN</td>\n",
       "    </tr>\n",
       "    <tr>\n",
       "      <th>1</th>\n",
       "      <td>Windpower_Eng</td>\n",
       "      <td>{'followers_count': 20065, 'following_count': ...</td>\n",
       "      <td>{'url': {'urls': [{'start': 0, 'end': 22, 'url...</td>\n",
       "      <td>http://t.co/vBCewbsVbl</td>\n",
       "      <td>False</td>\n",
       "      <td>Cleveland, Ohio</td>\n",
       "      <td>https://pbs.twimg.com/profile_images/884754224...</td>\n",
       "      <td>2009-05-27T14:44:38.000Z</td>\n",
       "      <td>Windpower Engineering &amp; Development</td>\n",
       "      <td>False</td>\n",
       "      <td>Industry Experts covering everything in wind e...</td>\n",
       "      <td>42896131</td>\n",
       "      <td>NaN</td>\n",
       "    </tr>\n",
       "    <tr>\n",
       "      <th>2</th>\n",
       "      <td>fogle_shane</td>\n",
       "      <td>{'followers_count': 19315, 'following_count': ...</td>\n",
       "      <td>{'url': {'urls': [{'start': 0, 'end': 23, 'url...</td>\n",
       "      <td>https://t.co/c9031YDqdt</td>\n",
       "      <td>False</td>\n",
       "      <td>United States</td>\n",
       "      <td>https://pbs.twimg.com/profile_images/135935176...</td>\n",
       "      <td>2010-11-30T13:46:14.000Z</td>\n",
       "      <td>Shane Fogle</td>\n",
       "      <td>False</td>\n",
       "      <td>Security Operations Director at Protiviti I Pa...</td>\n",
       "      <td>221370308</td>\n",
       "      <td>1363645861683691522</td>\n",
       "    </tr>\n",
       "    <tr>\n",
       "      <th>3</th>\n",
       "      <td>PVynckier</td>\n",
       "      <td>{'followers_count': 20508, 'following_count': ...</td>\n",
       "      <td>NaN</td>\n",
       "      <td></td>\n",
       "      <td>False</td>\n",
       "      <td>Strasbourg</td>\n",
       "      <td>https://pbs.twimg.com/profile_images/761118751...</td>\n",
       "      <td>2015-06-19T12:28:41.000Z</td>\n",
       "      <td>Philippe Vynckier - Influencer</td>\n",
       "      <td>False</td>\n",
       "      <td>Interested in the field of information technol...</td>\n",
       "      <td>3334677605</td>\n",
       "      <td>NaN</td>\n",
       "    </tr>\n",
       "    <tr>\n",
       "      <th>4</th>\n",
       "      <td>mclynd</td>\n",
       "      <td>{'followers_count': 40221, 'following_count': ...</td>\n",
       "      <td>{'url': {'urls': [{'start': 0, 'end': 23, 'url...</td>\n",
       "      <td>https://t.co/SyKSshSvqI</td>\n",
       "      <td>False</td>\n",
       "      <td>United States</td>\n",
       "      <td>https://pbs.twimg.com/profile_images/135046612...</td>\n",
       "      <td>2008-11-23T17:05:54.000Z</td>\n",
       "      <td>Mark Lynd 🎙CISSP ISSMP ISSMP</td>\n",
       "      <td>False</td>\n",
       "      <td>#CISO #CIO #USArmyVeteran, Father of 3 Girls, ...</td>\n",
       "      <td>17575069</td>\n",
       "      <td>1364209870891872256</td>\n",
       "    </tr>\n",
       "  </tbody>\n",
       "</table>\n",
       "</div>"
      ],
      "text/plain": [
       "        username                                     public_metrics  \\\n",
       "0   prolimglobal  {'followers_count': 227, 'following_count': 18...   \n",
       "1  Windpower_Eng  {'followers_count': 20065, 'following_count': ...   \n",
       "2    fogle_shane  {'followers_count': 19315, 'following_count': ...   \n",
       "3      PVynckier  {'followers_count': 20508, 'following_count': ...   \n",
       "4         mclynd  {'followers_count': 40221, 'following_count': ...   \n",
       "\n",
       "                                            entities                      url  \\\n",
       "0  {'url': {'urls': [{'start': 0, 'end': 20, 'url...     http://t.co/QtJHdWgC   \n",
       "1  {'url': {'urls': [{'start': 0, 'end': 22, 'url...   http://t.co/vBCewbsVbl   \n",
       "2  {'url': {'urls': [{'start': 0, 'end': 23, 'url...  https://t.co/c9031YDqdt   \n",
       "3                                                NaN                            \n",
       "4  {'url': {'urls': [{'start': 0, 'end': 23, 'url...  https://t.co/SyKSshSvqI   \n",
       "\n",
       "   protected              location  \\\n",
       "0      False  Farmington Hills, MI   \n",
       "1      False       Cleveland, Ohio   \n",
       "2      False         United States   \n",
       "3      False            Strasbourg   \n",
       "4      False         United States   \n",
       "\n",
       "                                   profile_image_url  \\\n",
       "0  https://pbs.twimg.com/profile_images/106961374...   \n",
       "1  https://pbs.twimg.com/profile_images/884754224...   \n",
       "2  https://pbs.twimg.com/profile_images/135935176...   \n",
       "3  https://pbs.twimg.com/profile_images/761118751...   \n",
       "4  https://pbs.twimg.com/profile_images/135046612...   \n",
       "\n",
       "                 created_at                                 name  verified  \\\n",
       "0  2012-09-05T13:23:40.000Z                   PROLIM Corporation     False   \n",
       "1  2009-05-27T14:44:38.000Z  Windpower Engineering & Development     False   \n",
       "2  2010-11-30T13:46:14.000Z                          Shane Fogle     False   \n",
       "3  2015-06-19T12:28:41.000Z       Philippe Vynckier - Influencer     False   \n",
       "4  2008-11-23T17:05:54.000Z         Mark Lynd 🎙CISSP ISSMP ISSMP     False   \n",
       "\n",
       "                                         description          id  \\\n",
       "0          IT Consulting, PLM, Engineering Services.   804599257   \n",
       "1  Industry Experts covering everything in wind e...    42896131   \n",
       "2  Security Operations Director at Protiviti I Pa...   221370308   \n",
       "3  Interested in the field of information technol...  3334677605   \n",
       "4  #CISO #CIO #USArmyVeteran, Father of 3 Girls, ...    17575069   \n",
       "\n",
       "       pinned_tweet_id  \n",
       "0                  NaN  \n",
       "1                  NaN  \n",
       "2  1363645861683691522  \n",
       "3                  NaN  \n",
       "4  1364209870891872256  "
      ]
     },
     "execution_count": 18,
     "metadata": {},
     "output_type": "execute_result"
    }
   ],
   "source": [
    "pd.DataFrame(response['includes']['users']).head()\n"
   ]
  },
  {
   "cell_type": "code",
   "execution_count": 19,
   "metadata": {},
   "outputs": [
    {
     "data": {
      "text/html": [
       "<div>\n",
       "<style scoped>\n",
       "    .dataframe tbody tr th:only-of-type {\n",
       "        vertical-align: middle;\n",
       "    }\n",
       "\n",
       "    .dataframe tbody tr th {\n",
       "        vertical-align: top;\n",
       "    }\n",
       "\n",
       "    .dataframe thead th {\n",
       "        text-align: right;\n",
       "    }\n",
       "</style>\n",
       "<table border=\"1\" class=\"dataframe\">\n",
       "  <thead>\n",
       "    <tr style=\"text-align: right;\">\n",
       "      <th></th>\n",
       "      <th>type</th>\n",
       "      <th>width</th>\n",
       "      <th>height</th>\n",
       "      <th>url</th>\n",
       "      <th>media_key</th>\n",
       "      <th>public_metrics</th>\n",
       "      <th>preview_image_url</th>\n",
       "      <th>duration_ms</th>\n",
       "    </tr>\n",
       "  </thead>\n",
       "  <tbody>\n",
       "    <tr>\n",
       "      <th>0</th>\n",
       "      <td>photo</td>\n",
       "      <td>1114</td>\n",
       "      <td>627</td>\n",
       "      <td>https://pbs.twimg.com/media/ENSC0bLXkAABYx1.jpg</td>\n",
       "      <td>3_1212738036829753344</td>\n",
       "      <td>NaN</td>\n",
       "      <td>NaN</td>\n",
       "      <td>NaN</td>\n",
       "    </tr>\n",
       "    <tr>\n",
       "      <th>1</th>\n",
       "      <td>photo</td>\n",
       "      <td>268</td>\n",
       "      <td>170</td>\n",
       "      <td>https://pbs.twimg.com/media/ENSCnh5X0AABiYr.jpg</td>\n",
       "      <td>3_1212737815295021056</td>\n",
       "      <td>NaN</td>\n",
       "      <td>NaN</td>\n",
       "      <td>NaN</td>\n",
       "    </tr>\n",
       "    <tr>\n",
       "      <th>2</th>\n",
       "      <td>photo</td>\n",
       "      <td>1301</td>\n",
       "      <td>732</td>\n",
       "      <td>https://pbs.twimg.com/media/ENSAoOXWoAMC3Yw.jpg</td>\n",
       "      <td>3_1212735628208676867</td>\n",
       "      <td>NaN</td>\n",
       "      <td>NaN</td>\n",
       "      <td>NaN</td>\n",
       "    </tr>\n",
       "    <tr>\n",
       "      <th>3</th>\n",
       "      <td>photo</td>\n",
       "      <td>1024</td>\n",
       "      <td>768</td>\n",
       "      <td>https://pbs.twimg.com/media/ENRzDHjWwAAhknF.jpg</td>\n",
       "      <td>3_1212720697073647616</td>\n",
       "      <td>NaN</td>\n",
       "      <td>NaN</td>\n",
       "      <td>NaN</td>\n",
       "    </tr>\n",
       "    <tr>\n",
       "      <th>4</th>\n",
       "      <td>photo</td>\n",
       "      <td>1024</td>\n",
       "      <td>768</td>\n",
       "      <td>https://pbs.twimg.com/media/ENRzAhwXUAEncA-.jpg</td>\n",
       "      <td>3_1212720652567924737</td>\n",
       "      <td>NaN</td>\n",
       "      <td>NaN</td>\n",
       "      <td>NaN</td>\n",
       "    </tr>\n",
       "  </tbody>\n",
       "</table>\n",
       "</div>"
      ],
      "text/plain": [
       "    type  width  height                                              url  \\\n",
       "0  photo   1114     627  https://pbs.twimg.com/media/ENSC0bLXkAABYx1.jpg   \n",
       "1  photo    268     170  https://pbs.twimg.com/media/ENSCnh5X0AABiYr.jpg   \n",
       "2  photo   1301     732  https://pbs.twimg.com/media/ENSAoOXWoAMC3Yw.jpg   \n",
       "3  photo   1024     768  https://pbs.twimg.com/media/ENRzDHjWwAAhknF.jpg   \n",
       "4  photo   1024     768  https://pbs.twimg.com/media/ENRzAhwXUAEncA-.jpg   \n",
       "\n",
       "               media_key public_metrics preview_image_url  duration_ms  \n",
       "0  3_1212738036829753344            NaN               NaN          NaN  \n",
       "1  3_1212737815295021056            NaN               NaN          NaN  \n",
       "2  3_1212735628208676867            NaN               NaN          NaN  \n",
       "3  3_1212720697073647616            NaN               NaN          NaN  \n",
       "4  3_1212720652567924737            NaN               NaN          NaN  "
      ]
     },
     "execution_count": 19,
     "metadata": {},
     "output_type": "execute_result"
    }
   ],
   "source": [
    "pd.DataFrame(response['includes']['media']).head()"
   ]
  },
  {
   "cell_type": "code",
   "execution_count": 20,
   "metadata": {},
   "outputs": [
    {
     "data": {
      "text/html": [
       "<div>\n",
       "<style scoped>\n",
       "    .dataframe tbody tr th:only-of-type {\n",
       "        vertical-align: middle;\n",
       "    }\n",
       "\n",
       "    .dataframe tbody tr th {\n",
       "        vertical-align: top;\n",
       "    }\n",
       "\n",
       "    .dataframe thead th {\n",
       "        text-align: right;\n",
       "    }\n",
       "</style>\n",
       "<table border=\"1\" class=\"dataframe\">\n",
       "  <thead>\n",
       "    <tr style=\"text-align: right;\">\n",
       "      <th></th>\n",
       "      <th>entities</th>\n",
       "      <th>context_annotations</th>\n",
       "      <th>created_at</th>\n",
       "      <th>source</th>\n",
       "      <th>text</th>\n",
       "      <th>id</th>\n",
       "      <th>possibly_sensitive</th>\n",
       "      <th>public_metrics</th>\n",
       "      <th>author_id</th>\n",
       "      <th>conversation_id</th>\n",
       "      <th>reply_settings</th>\n",
       "      <th>lang</th>\n",
       "      <th>attachments</th>\n",
       "      <th>referenced_tweets</th>\n",
       "      <th>in_reply_to_user_id</th>\n",
       "      <th>geo</th>\n",
       "    </tr>\n",
       "  </thead>\n",
       "  <tbody>\n",
       "    <tr>\n",
       "      <th>0</th>\n",
       "      <td>{'mentions': [{'start': 95, 'end': 102, 'usern...</td>\n",
       "      <td>[{'domain': {'id': '65', 'name': 'Interests an...</td>\n",
       "      <td>2020-01-02T06:03:47.000Z</td>\n",
       "      <td>Twitter Web Client</td>\n",
       "      <td>How AR, VR and digital twins optimize the indu...</td>\n",
       "      <td>1212615451005595648</td>\n",
       "      <td>False</td>\n",
       "      <td>{'retweet_count': 6, 'reply_count': 0, 'like_c...</td>\n",
       "      <td>3334677605</td>\n",
       "      <td>1212615451005595648</td>\n",
       "      <td>everyone</td>\n",
       "      <td>en</td>\n",
       "      <td>NaN</td>\n",
       "      <td>NaN</td>\n",
       "      <td>NaN</td>\n",
       "      <td>NaN</td>\n",
       "    </tr>\n",
       "    <tr>\n",
       "      <th>1</th>\n",
       "      <td>{'mentions': [{'start': 99, 'end': 113, 'usern...</td>\n",
       "      <td>[{'domain': {'id': '65', 'name': 'Interests an...</td>\n",
       "      <td>2020-01-02T12:21:59.000Z</td>\n",
       "      <td>Twitter Web App</td>\n",
       "      <td>AI geologists? The end of maps? Geological dat...</td>\n",
       "      <td>1212710626914717696</td>\n",
       "      <td>False</td>\n",
       "      <td>{'retweet_count': 8, 'reply_count': 8, 'like_c...</td>\n",
       "      <td>235264546</td>\n",
       "      <td>1212710626914717696</td>\n",
       "      <td>everyone</td>\n",
       "      <td>en</td>\n",
       "      <td>{'media_keys': ['3_1212710617724997633']}</td>\n",
       "      <td>NaN</td>\n",
       "      <td>NaN</td>\n",
       "      <td>NaN</td>\n",
       "    </tr>\n",
       "    <tr>\n",
       "      <th>2</th>\n",
       "      <td>{'hashtags': [{'start': 100, 'end': 112, 'tag'...</td>\n",
       "      <td>NaN</td>\n",
       "      <td>2019-12-29T08:04:26.000Z</td>\n",
       "      <td>Twitter for iPhone</td>\n",
       "      <td>Get digital: Digital Twin alleviates construct...</td>\n",
       "      <td>1211196260507672576</td>\n",
       "      <td>False</td>\n",
       "      <td>{'retweet_count': 5, 'reply_count': 0, 'like_c...</td>\n",
       "      <td>1560373568</td>\n",
       "      <td>1211196260507672576</td>\n",
       "      <td>everyone</td>\n",
       "      <td>en</td>\n",
       "      <td>NaN</td>\n",
       "      <td>[{'type': 'quoted', 'id': '1207334728359194625'}]</td>\n",
       "      <td>NaN</td>\n",
       "      <td>NaN</td>\n",
       "    </tr>\n",
       "    <tr>\n",
       "      <th>3</th>\n",
       "      <td>{'mentions': [{'start': 63, 'end': 74, 'userna...</td>\n",
       "      <td>[{'domain': {'id': '46', 'name': 'Brand Catego...</td>\n",
       "      <td>2019-12-31T16:10:27.000Z</td>\n",
       "      <td>Sprinklr</td>\n",
       "      <td>2019 Best of the #QuickBytes show: #IBM Distin...</td>\n",
       "      <td>1212043348216823808</td>\n",
       "      <td>False</td>\n",
       "      <td>{'retweet_count': 7, 'reply_count': 0, 'like_c...</td>\n",
       "      <td>1953648950</td>\n",
       "      <td>1212043348216823808</td>\n",
       "      <td>everyone</td>\n",
       "      <td>en</td>\n",
       "      <td>{'media_keys': ['3_1212043346681716740']}</td>\n",
       "      <td>NaN</td>\n",
       "      <td>NaN</td>\n",
       "      <td>NaN</td>\n",
       "    </tr>\n",
       "    <tr>\n",
       "      <th>4</th>\n",
       "      <td>{'urls': [{'start': 172, 'end': 195, 'url': 'h...</td>\n",
       "      <td>NaN</td>\n",
       "      <td>2020-01-02T08:40:52.000Z</td>\n",
       "      <td>Hootsuite Inc.</td>\n",
       "      <td>Das ganze ada-Team wünscht euch einen fabelhaf...</td>\n",
       "      <td>1212654980882022400</td>\n",
       "      <td>False</td>\n",
       "      <td>{'retweet_count': 3, 'reply_count': 2, 'like_c...</td>\n",
       "      <td>1009012670790623232</td>\n",
       "      <td>1212654980882022400</td>\n",
       "      <td>everyone</td>\n",
       "      <td>de</td>\n",
       "      <td>{'media_keys': ['16_1212654979628056576']}</td>\n",
       "      <td>NaN</td>\n",
       "      <td>NaN</td>\n",
       "      <td>NaN</td>\n",
       "    </tr>\n",
       "  </tbody>\n",
       "</table>\n",
       "</div>"
      ],
      "text/plain": [
       "                                            entities  \\\n",
       "0  {'mentions': [{'start': 95, 'end': 102, 'usern...   \n",
       "1  {'mentions': [{'start': 99, 'end': 113, 'usern...   \n",
       "2  {'hashtags': [{'start': 100, 'end': 112, 'tag'...   \n",
       "3  {'mentions': [{'start': 63, 'end': 74, 'userna...   \n",
       "4  {'urls': [{'start': 172, 'end': 195, 'url': 'h...   \n",
       "\n",
       "                                 context_annotations  \\\n",
       "0  [{'domain': {'id': '65', 'name': 'Interests an...   \n",
       "1  [{'domain': {'id': '65', 'name': 'Interests an...   \n",
       "2                                                NaN   \n",
       "3  [{'domain': {'id': '46', 'name': 'Brand Catego...   \n",
       "4                                                NaN   \n",
       "\n",
       "                 created_at              source  \\\n",
       "0  2020-01-02T06:03:47.000Z  Twitter Web Client   \n",
       "1  2020-01-02T12:21:59.000Z     Twitter Web App   \n",
       "2  2019-12-29T08:04:26.000Z  Twitter for iPhone   \n",
       "3  2019-12-31T16:10:27.000Z            Sprinklr   \n",
       "4  2020-01-02T08:40:52.000Z      Hootsuite Inc.   \n",
       "\n",
       "                                                text                   id  \\\n",
       "0  How AR, VR and digital twins optimize the indu...  1212615451005595648   \n",
       "1  AI geologists? The end of maps? Geological dat...  1212710626914717696   \n",
       "2  Get digital: Digital Twin alleviates construct...  1211196260507672576   \n",
       "3  2019 Best of the #QuickBytes show: #IBM Distin...  1212043348216823808   \n",
       "4  Das ganze ada-Team wünscht euch einen fabelhaf...  1212654980882022400   \n",
       "\n",
       "   possibly_sensitive                                     public_metrics  \\\n",
       "0               False  {'retweet_count': 6, 'reply_count': 0, 'like_c...   \n",
       "1               False  {'retweet_count': 8, 'reply_count': 8, 'like_c...   \n",
       "2               False  {'retweet_count': 5, 'reply_count': 0, 'like_c...   \n",
       "3               False  {'retweet_count': 7, 'reply_count': 0, 'like_c...   \n",
       "4               False  {'retweet_count': 3, 'reply_count': 2, 'like_c...   \n",
       "\n",
       "             author_id      conversation_id reply_settings lang  \\\n",
       "0           3334677605  1212615451005595648       everyone   en   \n",
       "1            235264546  1212710626914717696       everyone   en   \n",
       "2           1560373568  1211196260507672576       everyone   en   \n",
       "3           1953648950  1212043348216823808       everyone   en   \n",
       "4  1009012670790623232  1212654980882022400       everyone   de   \n",
       "\n",
       "                                  attachments  \\\n",
       "0                                         NaN   \n",
       "1   {'media_keys': ['3_1212710617724997633']}   \n",
       "2                                         NaN   \n",
       "3   {'media_keys': ['3_1212043346681716740']}   \n",
       "4  {'media_keys': ['16_1212654979628056576']}   \n",
       "\n",
       "                                   referenced_tweets in_reply_to_user_id  geo  \n",
       "0                                                NaN                 NaN  NaN  \n",
       "1                                                NaN                 NaN  NaN  \n",
       "2  [{'type': 'quoted', 'id': '1207334728359194625'}]                 NaN  NaN  \n",
       "3                                                NaN                 NaN  NaN  \n",
       "4                                                NaN                 NaN  NaN  "
      ]
     },
     "execution_count": 20,
     "metadata": {},
     "output_type": "execute_result"
    }
   ],
   "source": [
    "pd.DataFrame(response['includes']['tweets']).head()"
   ]
  },
  {
   "cell_type": "markdown",
   "metadata": {},
   "source": [
    "<h2>Data of tweets</h2>"
   ]
  },
  {
   "cell_type": "code",
   "execution_count": 21,
   "metadata": {},
   "outputs": [
    {
     "data": {
      "text/plain": [
       "list"
      ]
     },
     "execution_count": 21,
     "metadata": {},
     "output_type": "execute_result"
    }
   ],
   "source": [
    "daten = response['data']\n",
    "type(daten)"
   ]
  },
  {
   "cell_type": "code",
   "execution_count": 22,
   "metadata": {},
   "outputs": [
    {
     "data": {
      "text/html": [
       "<div>\n",
       "<style scoped>\n",
       "    .dataframe tbody tr th:only-of-type {\n",
       "        vertical-align: middle;\n",
       "    }\n",
       "\n",
       "    .dataframe tbody tr th {\n",
       "        vertical-align: top;\n",
       "    }\n",
       "\n",
       "    .dataframe thead th {\n",
       "        text-align: right;\n",
       "    }\n",
       "</style>\n",
       "<table border=\"1\" class=\"dataframe\">\n",
       "  <thead>\n",
       "    <tr style=\"text-align: right;\">\n",
       "      <th></th>\n",
       "      <th>attachments</th>\n",
       "      <th>created_at</th>\n",
       "      <th>source</th>\n",
       "      <th>text</th>\n",
       "      <th>id</th>\n",
       "      <th>possibly_sensitive</th>\n",
       "      <th>public_metrics</th>\n",
       "      <th>entities</th>\n",
       "      <th>author_id</th>\n",
       "      <th>conversation_id</th>\n",
       "      <th>reply_settings</th>\n",
       "      <th>lang</th>\n",
       "      <th>referenced_tweets</th>\n",
       "      <th>context_annotations</th>\n",
       "      <th>in_reply_to_user_id</th>\n",
       "      <th>geo</th>\n",
       "    </tr>\n",
       "  </thead>\n",
       "  <tbody>\n",
       "    <tr>\n",
       "      <th>0</th>\n",
       "      <td>{'media_keys': ['3_1212738036829753344']}</td>\n",
       "      <td>2020-01-02T14:10:54.000Z</td>\n",
       "      <td>Zift Platform</td>\n",
       "      <td>The #digitaltwin shortens program schedules an...</td>\n",
       "      <td>1212738038679449606</td>\n",
       "      <td>False</td>\n",
       "      <td>{'retweet_count': 0, 'reply_count': 0, 'like_c...</td>\n",
       "      <td>{'hashtags': [{'start': 4, 'end': 16, 'tag': '...</td>\n",
       "      <td>804599257</td>\n",
       "      <td>1212738038679449606</td>\n",
       "      <td>everyone</td>\n",
       "      <td>en</td>\n",
       "      <td>NaN</td>\n",
       "      <td>NaN</td>\n",
       "      <td>NaN</td>\n",
       "      <td>NaN</td>\n",
       "    </tr>\n",
       "    <tr>\n",
       "      <th>1</th>\n",
       "      <td>{'media_keys': ['3_1212737815295021056']}</td>\n",
       "      <td>2020-01-02T14:10:01.000Z</td>\n",
       "      <td>Sprout Social</td>\n",
       "      <td>How digital twins are transforming wind operat...</td>\n",
       "      <td>1212737817262116867</td>\n",
       "      <td>False</td>\n",
       "      <td>{'retweet_count': 1, 'reply_count': 0, 'like_c...</td>\n",
       "      <td>{'urls': [{'start': 53, 'end': 76, 'url': 'htt...</td>\n",
       "      <td>42896131</td>\n",
       "      <td>1212737817262116867</td>\n",
       "      <td>everyone</td>\n",
       "      <td>en</td>\n",
       "      <td>NaN</td>\n",
       "      <td>NaN</td>\n",
       "      <td>NaN</td>\n",
       "      <td>NaN</td>\n",
       "    </tr>\n",
       "    <tr>\n",
       "      <th>2</th>\n",
       "      <td>NaN</td>\n",
       "      <td>2020-01-02T14:08:45.000Z</td>\n",
       "      <td>Twitter for iPhone</td>\n",
       "      <td>RT @PVynckier: How AR, VR and digital twins op...</td>\n",
       "      <td>1212737498411098116</td>\n",
       "      <td>False</td>\n",
       "      <td>{'retweet_count': 6, 'reply_count': 0, 'like_c...</td>\n",
       "      <td>{'mentions': [{'start': 3, 'end': 13, 'usernam...</td>\n",
       "      <td>221370308</td>\n",
       "      <td>1212737498411098116</td>\n",
       "      <td>everyone</td>\n",
       "      <td>en</td>\n",
       "      <td>[{'type': 'retweeted', 'id': '1212615451005595...</td>\n",
       "      <td>[{'domain': {'id': '65', 'name': 'Interests an...</td>\n",
       "      <td>NaN</td>\n",
       "      <td>NaN</td>\n",
       "    </tr>\n",
       "    <tr>\n",
       "      <th>3</th>\n",
       "      <td>NaN</td>\n",
       "      <td>2020-01-02T14:03:38.000Z</td>\n",
       "      <td>Twitter for Android</td>\n",
       "      <td>RT @CliveBGS: AI geologists? The end of maps? ...</td>\n",
       "      <td>1212736208612278277</td>\n",
       "      <td>False</td>\n",
       "      <td>{'retweet_count': 8, 'reply_count': 0, 'like_c...</td>\n",
       "      <td>{'mentions': [{'start': 3, 'end': 12, 'usernam...</td>\n",
       "      <td>544295578</td>\n",
       "      <td>1212736208612278277</td>\n",
       "      <td>everyone</td>\n",
       "      <td>en</td>\n",
       "      <td>[{'type': 'retweeted', 'id': '1212710626914717...</td>\n",
       "      <td>[{'domain': {'id': '65', 'name': 'Interests an...</td>\n",
       "      <td>NaN</td>\n",
       "      <td>NaN</td>\n",
       "    </tr>\n",
       "    <tr>\n",
       "      <th>4</th>\n",
       "      <td>{'media_keys': ['3_1212735628208676867']}</td>\n",
       "      <td>2020-01-02T14:01:20.000Z</td>\n",
       "      <td>The Social Jukebox</td>\n",
       "      <td>Accelerating Product Development: Digital Twin...</td>\n",
       "      <td>1212735630247124994</td>\n",
       "      <td>False</td>\n",
       "      <td>{'retweet_count': 1, 'reply_count': 0, 'like_c...</td>\n",
       "      <td>{'hashtags': [{'start': 157, 'end': 179, 'tag'...</td>\n",
       "      <td>476443251</td>\n",
       "      <td>1212735630247124994</td>\n",
       "      <td>everyone</td>\n",
       "      <td>en</td>\n",
       "      <td>NaN</td>\n",
       "      <td>[{'domain': {'id': '65', 'name': 'Interests an...</td>\n",
       "      <td>NaN</td>\n",
       "      <td>NaN</td>\n",
       "    </tr>\n",
       "  </tbody>\n",
       "</table>\n",
       "</div>"
      ],
      "text/plain": [
       "                                 attachments                created_at  \\\n",
       "0  {'media_keys': ['3_1212738036829753344']}  2020-01-02T14:10:54.000Z   \n",
       "1  {'media_keys': ['3_1212737815295021056']}  2020-01-02T14:10:01.000Z   \n",
       "2                                        NaN  2020-01-02T14:08:45.000Z   \n",
       "3                                        NaN  2020-01-02T14:03:38.000Z   \n",
       "4  {'media_keys': ['3_1212735628208676867']}  2020-01-02T14:01:20.000Z   \n",
       "\n",
       "                source                                               text  \\\n",
       "0        Zift Platform  The #digitaltwin shortens program schedules an...   \n",
       "1        Sprout Social  How digital twins are transforming wind operat...   \n",
       "2   Twitter for iPhone  RT @PVynckier: How AR, VR and digital twins op...   \n",
       "3  Twitter for Android  RT @CliveBGS: AI geologists? The end of maps? ...   \n",
       "4   The Social Jukebox  Accelerating Product Development: Digital Twin...   \n",
       "\n",
       "                    id  possibly_sensitive  \\\n",
       "0  1212738038679449606               False   \n",
       "1  1212737817262116867               False   \n",
       "2  1212737498411098116               False   \n",
       "3  1212736208612278277               False   \n",
       "4  1212735630247124994               False   \n",
       "\n",
       "                                      public_metrics  \\\n",
       "0  {'retweet_count': 0, 'reply_count': 0, 'like_c...   \n",
       "1  {'retweet_count': 1, 'reply_count': 0, 'like_c...   \n",
       "2  {'retweet_count': 6, 'reply_count': 0, 'like_c...   \n",
       "3  {'retweet_count': 8, 'reply_count': 0, 'like_c...   \n",
       "4  {'retweet_count': 1, 'reply_count': 0, 'like_c...   \n",
       "\n",
       "                                            entities  author_id  \\\n",
       "0  {'hashtags': [{'start': 4, 'end': 16, 'tag': '...  804599257   \n",
       "1  {'urls': [{'start': 53, 'end': 76, 'url': 'htt...   42896131   \n",
       "2  {'mentions': [{'start': 3, 'end': 13, 'usernam...  221370308   \n",
       "3  {'mentions': [{'start': 3, 'end': 12, 'usernam...  544295578   \n",
       "4  {'hashtags': [{'start': 157, 'end': 179, 'tag'...  476443251   \n",
       "\n",
       "       conversation_id reply_settings lang  \\\n",
       "0  1212738038679449606       everyone   en   \n",
       "1  1212737817262116867       everyone   en   \n",
       "2  1212737498411098116       everyone   en   \n",
       "3  1212736208612278277       everyone   en   \n",
       "4  1212735630247124994       everyone   en   \n",
       "\n",
       "                                   referenced_tweets  \\\n",
       "0                                                NaN   \n",
       "1                                                NaN   \n",
       "2  [{'type': 'retweeted', 'id': '1212615451005595...   \n",
       "3  [{'type': 'retweeted', 'id': '1212710626914717...   \n",
       "4                                                NaN   \n",
       "\n",
       "                                 context_annotations in_reply_to_user_id  geo  \n",
       "0                                                NaN                 NaN  NaN  \n",
       "1                                                NaN                 NaN  NaN  \n",
       "2  [{'domain': {'id': '65', 'name': 'Interests an...                 NaN  NaN  \n",
       "3  [{'domain': {'id': '65', 'name': 'Interests an...                 NaN  NaN  \n",
       "4  [{'domain': {'id': '65', 'name': 'Interests an...                 NaN  NaN  "
      ]
     },
     "execution_count": 22,
     "metadata": {},
     "output_type": "execute_result"
    }
   ],
   "source": [
    "df = pd.DataFrame(daten)\n",
    "df.head()"
   ]
  },
  {
   "cell_type": "code",
   "execution_count": 23,
   "metadata": {},
   "outputs": [],
   "source": [
    "for line in data:\n",
    "    try:\n",
    "        doc = json.loads(line)\n",
    "        tweets = doc['response']['data']\n",
    "        for tweet in tweets:\n",
    "            print(tweet['source'])\n",
    "    except:\n",
    "        pass"
   ]
  },
  {
   "cell_type": "code",
   "execution_count": 24,
   "metadata": {},
   "outputs": [
    {
     "data": {
      "text/plain": [
       "Index(['attachments', 'created_at', 'source', 'text', 'id',\n",
       "       'possibly_sensitive', 'public_metrics', 'entities', 'author_id',\n",
       "       'conversation_id', 'reply_settings', 'lang', 'referenced_tweets',\n",
       "       'context_annotations', 'in_reply_to_user_id', 'geo'],\n",
       "      dtype='object')"
      ]
     },
     "execution_count": 24,
     "metadata": {},
     "output_type": "execute_result"
    }
   ],
   "source": [
    "df.columns"
   ]
  },
  {
   "cell_type": "code",
   "execution_count": 25,
   "metadata": {},
   "outputs": [
    {
     "name": "stdout",
     "output_type": "stream",
     "text": [
      "<class 'pandas.core.frame.DataFrame'>\n",
      "RangeIndex: 290 entries, 0 to 289\n",
      "Data columns (total 16 columns):\n",
      " #   Column               Non-Null Count  Dtype \n",
      "---  ------               --------------  ----- \n",
      " 0   attachments          52 non-null     object\n",
      " 1   created_at           290 non-null    object\n",
      " 2   source               290 non-null    object\n",
      " 3   text                 290 non-null    object\n",
      " 4   id                   290 non-null    object\n",
      " 5   possibly_sensitive   290 non-null    bool  \n",
      " 6   public_metrics       290 non-null    object\n",
      " 7   entities             289 non-null    object\n",
      " 8   author_id            290 non-null    object\n",
      " 9   conversation_id      290 non-null    object\n",
      " 10  reply_settings       290 non-null    object\n",
      " 11  lang                 290 non-null    object\n",
      " 12  referenced_tweets    181 non-null    object\n",
      " 13  context_annotations  214 non-null    object\n",
      " 14  in_reply_to_user_id  10 non-null     object\n",
      " 15  geo                  3 non-null      object\n",
      "dtypes: bool(1), object(15)\n",
      "memory usage: 34.4+ KB\n"
     ]
    }
   ],
   "source": [
    "df.info()"
   ]
  },
  {
   "cell_type": "code",
   "execution_count": 26,
   "metadata": {},
   "outputs": [
    {
     "data": {
      "text/plain": [
       "attachments            238\n",
       "created_at               0\n",
       "source                   0\n",
       "text                     0\n",
       "id                       0\n",
       "possibly_sensitive       0\n",
       "public_metrics           0\n",
       "entities                 1\n",
       "author_id                0\n",
       "conversation_id          0\n",
       "reply_settings           0\n",
       "lang                     0\n",
       "referenced_tweets      109\n",
       "context_annotations     76\n",
       "in_reply_to_user_id    280\n",
       "geo                    287\n",
       "dtype: int64"
      ]
     },
     "execution_count": 26,
     "metadata": {},
     "output_type": "execute_result"
    }
   ],
   "source": [
    "df.isnull().sum()"
   ]
  },
  {
   "cell_type": "code",
   "execution_count": 27,
   "metadata": {},
   "outputs": [
    {
     "data": {
      "text/html": [
       "<div>\n",
       "<style scoped>\n",
       "    .dataframe tbody tr th:only-of-type {\n",
       "        vertical-align: middle;\n",
       "    }\n",
       "\n",
       "    .dataframe tbody tr th {\n",
       "        vertical-align: top;\n",
       "    }\n",
       "\n",
       "    .dataframe thead th {\n",
       "        text-align: right;\n",
       "    }\n",
       "</style>\n",
       "<table border=\"1\" class=\"dataframe\">\n",
       "  <thead>\n",
       "    <tr style=\"text-align: right;\">\n",
       "      <th></th>\n",
       "      <th>text</th>\n",
       "      <th>author_id</th>\n",
       "    </tr>\n",
       "  </thead>\n",
       "  <tbody>\n",
       "    <tr>\n",
       "      <th>0</th>\n",
       "      <td>The #digitaltwin shortens program schedules an...</td>\n",
       "      <td>804599257</td>\n",
       "    </tr>\n",
       "    <tr>\n",
       "      <th>1</th>\n",
       "      <td>How digital twins are transforming wind operat...</td>\n",
       "      <td>42896131</td>\n",
       "    </tr>\n",
       "    <tr>\n",
       "      <th>2</th>\n",
       "      <td>RT @PVynckier: How AR, VR and digital twins op...</td>\n",
       "      <td>221370308</td>\n",
       "    </tr>\n",
       "    <tr>\n",
       "      <th>3</th>\n",
       "      <td>RT @CliveBGS: AI geologists? The end of maps? ...</td>\n",
       "      <td>544295578</td>\n",
       "    </tr>\n",
       "    <tr>\n",
       "      <th>4</th>\n",
       "      <td>Accelerating Product Development: Digital Twin...</td>\n",
       "      <td>476443251</td>\n",
       "    </tr>\n",
       "  </tbody>\n",
       "</table>\n",
       "</div>"
      ],
      "text/plain": [
       "                                                text  author_id\n",
       "0  The #digitaltwin shortens program schedules an...  804599257\n",
       "1  How digital twins are transforming wind operat...   42896131\n",
       "2  RT @PVynckier: How AR, VR and digital twins op...  221370308\n",
       "3  RT @CliveBGS: AI geologists? The end of maps? ...  544295578\n",
       "4  Accelerating Product Development: Digital Twin...  476443251"
      ]
     },
     "execution_count": 27,
     "metadata": {},
     "output_type": "execute_result"
    }
   ],
   "source": [
    "text = df.drop(df.columns.difference(['text','author_id']), axis=1)\n",
    "text.head()"
   ]
  },
  {
   "cell_type": "code",
   "execution_count": 46,
   "metadata": {},
   "outputs": [
    {
     "data": {
      "text/plain": [
       "<AxesSubplot:>"
      ]
     },
     "execution_count": 46,
     "metadata": {},
     "output_type": "execute_result"
    },
    {
     "data": {
      "image/png": "[encoded data removed]",
      "text/plain": [
       "<Figure size 432x288 with 1 Axes>"
      ]
     },
     "metadata": {
      "needs_background": "light"
     },
     "output_type": "display_data"
    }
   ],
   "source": [
    "leng = []\n",
    "for i in range(len(text)):\n",
    "        leng.append(len(text.text[i]))\n",
    "text_length = pd.DataFrame(leng)\n",
    "text_length.plot()"
   ]
  },
  {
   "cell_type": "code",
   "execution_count": 49,
   "metadata": {},
   "outputs": [
    {
     "data": {
      "text/plain": [
       "<AxesSubplot:>"
      ]
     },
     "execution_count": 49,
     "metadata": {},
     "output_type": "execute_result"
    },
    {
     "data": {
      "image/png": "[encoded data removed]",
      "text/plain": [
       "<Figure size 432x288 with 1 Axes>"
      ]
     },
     "metadata": {
      "needs_background": "light"
     },
     "output_type": "display_data"
    }
   ],
   "source": [
    "text_length.plot.area()"
   ]
  },
  {
   "cell_type": "code",
   "execution_count": null,
   "metadata": {},
   "outputs": [],
   "source": []
  }
 ],
 "metadata": {
  "kernelspec": {
   "display_name": "Python 3",
   "language": "python",
   "name": "python3"
  },
  "language_info": {
   "codemirror_mode": {
    "name": "ipython",
    "version": 3
   },
   "file_extension": ".py",
   "mimetype": "text/x-python",
   "name": "python",
   "nbconvert_exporter": "python",
   "pygments_lexer": "ipython3",
   "version": "3.8.5"
  }
 },
 "nbformat": 4,
 "nbformat_minor": 4
}
