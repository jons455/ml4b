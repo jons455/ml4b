{
 "cells": [
  {
   "cell_type": "code",
   "execution_count": 2,
   "metadata": {},
   "outputs": [],
   "source": [
    "import json\n",
    "import matplotlib.pyplot as plt\n",
    "import pandas as pd\n",
    "import numpy as np\n",
    "import matplotlib.pyplot as plt\n",
    "from collections import defaultdict"
   ]
  },
  {
   "cell_type": "code",
   "execution_count": 3,
   "metadata": {},
   "outputs": [],
   "source": [
    "data = []\n",
    "for file in range(15):\n",
    "    data.append(open('../Tweet-Data/digital_twin_tweets-'+str(2006+file)+'.jl'))\n",
    "    "
   ]
  },
  {
   "cell_type": "code",
   "execution_count": 4,
   "metadata": {},
   "outputs": [],
   "source": [
    "doc = []\n",
    "for file in data:\n",
    "    for line in file:\n",
    "        doc.append(json.loads(line))"
   ]
  },
  {
   "cell_type": "code",
   "execution_count": 5,
   "metadata": {},
   "outputs": [
    {
     "data": {
      "text/plain": [
       "909"
      ]
     },
     "execution_count": 5,
     "metadata": {},
     "output_type": "execute_result"
    }
   ],
   "source": [
    "len(doc)"
   ]
  },
  {
   "cell_type": "code",
   "execution_count": 6,
   "metadata": {},
   "outputs": [
    {
     "data": {
      "text/plain": [
       "dict"
      ]
     },
     "execution_count": 6,
     "metadata": {},
     "output_type": "execute_result"
    }
   ],
   "source": [
    "type(doc[1])"
   ]
  },
  {
   "cell_type": "code",
   "execution_count": 7,
   "metadata": {},
   "outputs": [
    {
     "data": {
      "text/plain": [
       "dict_keys(['http_status', 'year', 'params', 'response'])"
      ]
     },
     "execution_count": 7,
     "metadata": {},
     "output_type": "execute_result"
    }
   ],
   "source": [
    "doc[1].keys()"
   ]
  },
  {
   "cell_type": "code",
   "execution_count": 8,
   "metadata": {},
   "outputs": [
    {
     "data": {
      "text/plain": [
       "[{'public_metrics': {'retweet_count': 0,\n",
       "   'reply_count': 0,\n",
       "   'like_count': 0,\n",
       "   'quote_count': 0},\n",
       "  'possibly_sensitive': False,\n",
       "  'lang': 'en',\n",
       "  'conversation_id': '196991032',\n",
       "  'author_id': '5544032',\n",
       "  'reply_settings': 'everyone',\n",
       "  'entities': {'annotations': [{'start': 0,\n",
       "     'end': 4,\n",
       "     'probability': 0.4497,\n",
       "     'type': 'Organization',\n",
       "     'normalized_text': 'Bajaj'},\n",
       "    {'start': 42,\n",
       "     'end': 51,\n",
       "     'probability': 0.4462,\n",
       "     'type': 'Product',\n",
       "     'normalized_text': 'Bajaj Auto'}]},\n",
       "  'source': 'Twitter Web Client',\n",
       "  'text': 'Bajaj has a new growth engine, literally: Bajaj Auto, unveiled a new engine platform, digital twin spar.. http://tinyurl.com/226b89',\n",
       "  'id': '196991032',\n",
       "  'created_at': '2007-08-09T22:13:01.000Z'},\n",
       " {'public_metrics': {'retweet_count': 0,\n",
       "   'reply_count': 0,\n",
       "   'like_count': 0,\n",
       "   'quote_count': 0},\n",
       "  'possibly_sensitive': False,\n",
       "  'lang': 'tl',\n",
       "  'conversation_id': '195910282',\n",
       "  'author_id': '5544032',\n",
       "  'reply_settings': 'everyone',\n",
       "  'source': 'Twitter Web Client',\n",
       "  'text': \"Bajaj Auto's DTS-Si engine offers 109km/l: Bajaj on Thursday launched 'Digital Twin Spark-Swirl inducti.. http://tinyurl.com/3dcbuy\",\n",
       "  'id': '195910282',\n",
       "  'created_at': '2007-08-09T11:12:34.000Z'}]"
      ]
     },
     "execution_count": 8,
     "metadata": {},
     "output_type": "execute_result"
    }
   ],
   "source": [
    "doc[1]['response']['data']\n",
    "    "
   ]
  },
  {
   "cell_type": "code",
   "execution_count": 9,
   "metadata": {},
   "outputs": [],
   "source": [
    "emptyList = []\n",
    "for dict in doc:\n",
    "    emptyList.append(dict['response'])\n",
    "    "
   ]
  },
  {
   "cell_type": "code",
   "execution_count": 10,
   "metadata": {},
   "outputs": [
    {
     "data": {
      "text/plain": [
       "909"
      ]
     },
     "execution_count": 10,
     "metadata": {},
     "output_type": "execute_result"
    }
   ],
   "source": [
    "len(emptyList)"
   ]
  },
  {
   "cell_type": "code",
   "execution_count": 11,
   "metadata": {},
   "outputs": [
    {
     "data": {
      "text/plain": [
       "dict_keys(['meta'])"
      ]
     },
     "execution_count": 11,
     "metadata": {},
     "output_type": "execute_result"
    }
   ],
   "source": [
    "doc[0]['response'].keys()\n"
   ]
  },
  {
   "cell_type": "code",
   "execution_count": null,
   "metadata": {},
   "outputs": [],
   "source": [
    "        "
   ]
  },
  {
   "cell_type": "code",
   "execution_count": 12,
   "metadata": {},
   "outputs": [],
   "source": [
    "def check(dictionary):\n",
    "    if dictionary['result_count'] == 0: return False\n",
    "    else: return True"
   ]
  },
  {
   "cell_type": "code",
   "execution_count": 13,
   "metadata": {},
   "outputs": [],
   "source": [
    "emptyData = []\n",
    "for dict in emptyList:\n",
    "    if check(dict['meta']): emptyData.append(dict['data'])"
   ]
  },
  {
   "cell_type": "code",
   "execution_count": 14,
   "metadata": {},
   "outputs": [
    {
     "data": {
      "text/plain": [
       "908"
      ]
     },
     "execution_count": 14,
     "metadata": {},
     "output_type": "execute_result"
    }
   ],
   "source": [
    "len(emptyData)\n"
   ]
  },
  {
   "cell_type": "code",
   "execution_count": 15,
   "metadata": {},
   "outputs": [
    {
     "data": {
      "text/plain": [
       "list"
      ]
     },
     "execution_count": 15,
     "metadata": {},
     "output_type": "execute_result"
    }
   ],
   "source": [
    "type(emptyData)"
   ]
  },
  {
   "cell_type": "code",
   "execution_count": 16,
   "metadata": {},
   "outputs": [
    {
     "data": {
      "text/html": [
       "<div>\n",
       "<style scoped>\n",
       "    .dataframe tbody tr th:only-of-type {\n",
       "        vertical-align: middle;\n",
       "    }\n",
       "\n",
       "    .dataframe tbody tr th {\n",
       "        vertical-align: top;\n",
       "    }\n",
       "\n",
       "    .dataframe thead th {\n",
       "        text-align: right;\n",
       "    }\n",
       "</style>\n",
       "<table border=\"1\" class=\"dataframe\">\n",
       "  <thead>\n",
       "    <tr style=\"text-align: right;\">\n",
       "      <th></th>\n",
       "      <th>text</th>\n",
       "      <th>conversation_id</th>\n",
       "      <th>created_at</th>\n",
       "      <th>author_id</th>\n",
       "      <th>lang</th>\n",
       "      <th>id</th>\n",
       "      <th>source</th>\n",
       "      <th>public_metrics</th>\n",
       "      <th>reply_settings</th>\n",
       "      <th>entities</th>\n",
       "      <th>possibly_sensitive</th>\n",
       "      <th>referenced_tweets</th>\n",
       "      <th>in_reply_to_user_id</th>\n",
       "    </tr>\n",
       "  </thead>\n",
       "  <tbody>\n",
       "    <tr>\n",
       "      <th>0</th>\n",
       "      <td>Find Your Digital Twin on Facebook: If novelty...</td>\n",
       "      <td>6315780112</td>\n",
       "      <td>2009-12-03T21:35:26.000Z</td>\n",
       "      <td>18248248</td>\n",
       "      <td>en</td>\n",
       "      <td>6315780112</td>\n",
       "      <td>twitterfeed</td>\n",
       "      <td>{'retweet_count': 0, 'reply_count': 0, 'like_c...</td>\n",
       "      <td>everyone</td>\n",
       "      <td>{'annotations': [{'start': 26, 'end': 33, 'pro...</td>\n",
       "      <td>False</td>\n",
       "      <td>NaN</td>\n",
       "      <td>NaN</td>\n",
       "    </tr>\n",
       "    <tr>\n",
       "      <th>1</th>\n",
       "      <td>Reading: Find Your Digital Twin on Facebook: I...</td>\n",
       "      <td>6315765231</td>\n",
       "      <td>2009-12-03T21:34:53.000Z</td>\n",
       "      <td>11029722</td>\n",
       "      <td>en</td>\n",
       "      <td>6315765231</td>\n",
       "      <td>twitterfeed</td>\n",
       "      <td>{'retweet_count': 0, 'reply_count': 0, 'like_c...</td>\n",
       "      <td>everyone</td>\n",
       "      <td>{'annotations': [{'start': 35, 'end': 42, 'pro...</td>\n",
       "      <td>False</td>\n",
       "      <td>NaN</td>\n",
       "      <td>NaN</td>\n",
       "    </tr>\n",
       "    <tr>\n",
       "      <th>2</th>\n",
       "      <td>RT @Civrock: Find Your Digital Twin on Faceboo...</td>\n",
       "      <td>6315763272</td>\n",
       "      <td>2009-12-03T21:34:49.000Z</td>\n",
       "      <td>85275659</td>\n",
       "      <td>en</td>\n",
       "      <td>6315763272</td>\n",
       "      <td>Twitter Web Client</td>\n",
       "      <td>{'retweet_count': 1, 'reply_count': 0, 'like_c...</td>\n",
       "      <td>everyone</td>\n",
       "      <td>{'annotations': [{'start': 39, 'end': 46, 'pro...</td>\n",
       "      <td>False</td>\n",
       "      <td>[{'type': 'retweeted', 'id': '6315134524'}]</td>\n",
       "      <td>NaN</td>\n",
       "    </tr>\n",
       "    <tr>\n",
       "      <th>3</th>\n",
       "      <td>Anyone else think this is creepy? RT @mashable...</td>\n",
       "      <td>6315762162</td>\n",
       "      <td>2009-12-03T21:34:46.000Z</td>\n",
       "      <td>59682118</td>\n",
       "      <td>en</td>\n",
       "      <td>6315762162</td>\n",
       "      <td>TweetMeme</td>\n",
       "      <td>{'retweet_count': 0, 'reply_count': 0, 'like_c...</td>\n",
       "      <td>everyone</td>\n",
       "      <td>{'annotations': [{'start': 73, 'end': 80, 'pro...</td>\n",
       "      <td>False</td>\n",
       "      <td>NaN</td>\n",
       "      <td>NaN</td>\n",
       "    </tr>\n",
       "    <tr>\n",
       "      <th>4</th>\n",
       "      <td>@KIRO7Seattle today @jennihogan is my digital ...</td>\n",
       "      <td>6315705239</td>\n",
       "      <td>2009-12-03T21:34:21.000Z</td>\n",
       "      <td>17566614</td>\n",
       "      <td>en</td>\n",
       "      <td>6315750888</td>\n",
       "      <td>Twitter Web Client</td>\n",
       "      <td>{'retweet_count': 0, 'reply_count': 0, 'like_c...</td>\n",
       "      <td>everyone</td>\n",
       "      <td>{'mentions': [{'start': 0, 'end': 13, 'usernam...</td>\n",
       "      <td>False</td>\n",
       "      <td>[{'type': 'replied_to', 'id': '6315705239'}]</td>\n",
       "      <td>21116401</td>\n",
       "    </tr>\n",
       "    <tr>\n",
       "      <th>...</th>\n",
       "      <td>...</td>\n",
       "      <td>...</td>\n",
       "      <td>...</td>\n",
       "      <td>...</td>\n",
       "      <td>...</td>\n",
       "      <td>...</td>\n",
       "      <td>...</td>\n",
       "      <td>...</td>\n",
       "      <td>...</td>\n",
       "      <td>...</td>\n",
       "      <td>...</td>\n",
       "      <td>...</td>\n",
       "      <td>...</td>\n",
       "    </tr>\n",
       "    <tr>\n",
       "      <th>177</th>\n",
       "      <td>@eddieizzard what's it like having a digital t...</td>\n",
       "      <td>1360098235</td>\n",
       "      <td>2009-03-20T13:29:03.000Z</td>\n",
       "      <td>19819153</td>\n",
       "      <td>en</td>\n",
       "      <td>1360175352</td>\n",
       "      <td>Twitter Web Client</td>\n",
       "      <td>{'retweet_count': 0, 'reply_count': 0, 'like_c...</td>\n",
       "      <td>everyone</td>\n",
       "      <td>{'mentions': [{'start': 0, 'end': 12, 'usernam...</td>\n",
       "      <td>False</td>\n",
       "      <td>[{'type': 'replied_to', 'id': '1360098235'}]</td>\n",
       "      <td>24447643</td>\n",
       "    </tr>\n",
       "    <tr>\n",
       "      <th>178</th>\n",
       "      <td>@tchrischan @mmillonida I just saw the commers...</td>\n",
       "      <td>1282107850</td>\n",
       "      <td>2009-03-05T05:13:34.000Z</td>\n",
       "      <td>14620646</td>\n",
       "      <td>en</td>\n",
       "      <td>1282107850</td>\n",
       "      <td>Twitter Web Client</td>\n",
       "      <td>{'retweet_count': 0, 'reply_count': 0, 'like_c...</td>\n",
       "      <td>everyone</td>\n",
       "      <td>{'annotations': [{'start': 52, 'end': 54, 'pro...</td>\n",
       "      <td>False</td>\n",
       "      <td>NaN</td>\n",
       "      <td>14260862</td>\n",
       "    </tr>\n",
       "    <tr>\n",
       "      <th>179</th>\n",
       "      <td>@theexperthand The new Platina has Digital Twi...</td>\n",
       "      <td>1175802137</td>\n",
       "      <td>2009-02-04T10:07:55.000Z</td>\n",
       "      <td>16508889</td>\n",
       "      <td>en</td>\n",
       "      <td>1175854564</td>\n",
       "      <td>Twitter Web Client</td>\n",
       "      <td>{'retweet_count': 0, 'reply_count': 0, 'like_c...</td>\n",
       "      <td>everyone</td>\n",
       "      <td>{'annotations': [{'start': 23, 'end': 52, 'pro...</td>\n",
       "      <td>False</td>\n",
       "      <td>[{'type': 'replied_to', 'id': '1175802137'}]</td>\n",
       "      <td>5548782</td>\n",
       "    </tr>\n",
       "    <tr>\n",
       "      <th>180</th>\n",
       "      <td>What about the term \"Identity Hostage?\" Does t...</td>\n",
       "      <td>1162413627</td>\n",
       "      <td>2009-01-30T18:28:33.000Z</td>\n",
       "      <td>19568570</td>\n",
       "      <td>en</td>\n",
       "      <td>1162413627</td>\n",
       "      <td>Twitter Web Client</td>\n",
       "      <td>{'retweet_count': 0, 'reply_count': 0, 'like_c...</td>\n",
       "      <td>everyone</td>\n",
       "      <td>NaN</td>\n",
       "      <td>False</td>\n",
       "      <td>NaN</td>\n",
       "      <td>NaN</td>\n",
       "    </tr>\n",
       "    <tr>\n",
       "      <th>181</th>\n",
       "      <td>@danielbachhuber Okay so once we develop semi-...</td>\n",
       "      <td>1148048666</td>\n",
       "      <td>2009-01-26T02:37:50.000Z</td>\n",
       "      <td>14058100</td>\n",
       "      <td>en</td>\n",
       "      <td>1148062275</td>\n",
       "      <td>Twitter Web Client</td>\n",
       "      <td>{'retweet_count': 0, 'reply_count': 0, 'like_c...</td>\n",
       "      <td>everyone</td>\n",
       "      <td>{'mentions': [{'start': 0, 'end': 16, 'usernam...</td>\n",
       "      <td>False</td>\n",
       "      <td>[{'type': 'replied_to', 'id': '1148048666'}]</td>\n",
       "      <td>3225991</td>\n",
       "    </tr>\n",
       "  </tbody>\n",
       "</table>\n",
       "<p>182 rows × 13 columns</p>\n",
       "</div>"
      ],
      "text/plain": [
       "                                                  text conversation_id  \\\n",
       "0    Find Your Digital Twin on Facebook: If novelty...      6315780112   \n",
       "1    Reading: Find Your Digital Twin on Facebook: I...      6315765231   \n",
       "2    RT @Civrock: Find Your Digital Twin on Faceboo...      6315763272   \n",
       "3    Anyone else think this is creepy? RT @mashable...      6315762162   \n",
       "4    @KIRO7Seattle today @jennihogan is my digital ...      6315705239   \n",
       "..                                                 ...             ...   \n",
       "177  @eddieizzard what's it like having a digital t...      1360098235   \n",
       "178  @tchrischan @mmillonida I just saw the commers...      1282107850   \n",
       "179  @theexperthand The new Platina has Digital Twi...      1175802137   \n",
       "180  What about the term \"Identity Hostage?\" Does t...      1162413627   \n",
       "181  @danielbachhuber Okay so once we develop semi-...      1148048666   \n",
       "\n",
       "                   created_at author_id lang          id              source  \\\n",
       "0    2009-12-03T21:35:26.000Z  18248248   en  6315780112         twitterfeed   \n",
       "1    2009-12-03T21:34:53.000Z  11029722   en  6315765231         twitterfeed   \n",
       "2    2009-12-03T21:34:49.000Z  85275659   en  6315763272  Twitter Web Client   \n",
       "3    2009-12-03T21:34:46.000Z  59682118   en  6315762162           TweetMeme   \n",
       "4    2009-12-03T21:34:21.000Z  17566614   en  6315750888  Twitter Web Client   \n",
       "..                        ...       ...  ...         ...                 ...   \n",
       "177  2009-03-20T13:29:03.000Z  19819153   en  1360175352  Twitter Web Client   \n",
       "178  2009-03-05T05:13:34.000Z  14620646   en  1282107850  Twitter Web Client   \n",
       "179  2009-02-04T10:07:55.000Z  16508889   en  1175854564  Twitter Web Client   \n",
       "180  2009-01-30T18:28:33.000Z  19568570   en  1162413627  Twitter Web Client   \n",
       "181  2009-01-26T02:37:50.000Z  14058100   en  1148062275  Twitter Web Client   \n",
       "\n",
       "                                        public_metrics reply_settings  \\\n",
       "0    {'retweet_count': 0, 'reply_count': 0, 'like_c...       everyone   \n",
       "1    {'retweet_count': 0, 'reply_count': 0, 'like_c...       everyone   \n",
       "2    {'retweet_count': 1, 'reply_count': 0, 'like_c...       everyone   \n",
       "3    {'retweet_count': 0, 'reply_count': 0, 'like_c...       everyone   \n",
       "4    {'retweet_count': 0, 'reply_count': 0, 'like_c...       everyone   \n",
       "..                                                 ...            ...   \n",
       "177  {'retweet_count': 0, 'reply_count': 0, 'like_c...       everyone   \n",
       "178  {'retweet_count': 0, 'reply_count': 0, 'like_c...       everyone   \n",
       "179  {'retweet_count': 0, 'reply_count': 0, 'like_c...       everyone   \n",
       "180  {'retweet_count': 0, 'reply_count': 0, 'like_c...       everyone   \n",
       "181  {'retweet_count': 0, 'reply_count': 0, 'like_c...       everyone   \n",
       "\n",
       "                                              entities  possibly_sensitive  \\\n",
       "0    {'annotations': [{'start': 26, 'end': 33, 'pro...               False   \n",
       "1    {'annotations': [{'start': 35, 'end': 42, 'pro...               False   \n",
       "2    {'annotations': [{'start': 39, 'end': 46, 'pro...               False   \n",
       "3    {'annotations': [{'start': 73, 'end': 80, 'pro...               False   \n",
       "4    {'mentions': [{'start': 0, 'end': 13, 'usernam...               False   \n",
       "..                                                 ...                 ...   \n",
       "177  {'mentions': [{'start': 0, 'end': 12, 'usernam...               False   \n",
       "178  {'annotations': [{'start': 52, 'end': 54, 'pro...               False   \n",
       "179  {'annotations': [{'start': 23, 'end': 52, 'pro...               False   \n",
       "180                                                NaN               False   \n",
       "181  {'mentions': [{'start': 0, 'end': 16, 'usernam...               False   \n",
       "\n",
       "                                referenced_tweets in_reply_to_user_id  \n",
       "0                                             NaN                 NaN  \n",
       "1                                             NaN                 NaN  \n",
       "2     [{'type': 'retweeted', 'id': '6315134524'}]                 NaN  \n",
       "3                                             NaN                 NaN  \n",
       "4    [{'type': 'replied_to', 'id': '6315705239'}]            21116401  \n",
       "..                                            ...                 ...  \n",
       "177  [{'type': 'replied_to', 'id': '1360098235'}]            24447643  \n",
       "178                                           NaN            14260862  \n",
       "179  [{'type': 'replied_to', 'id': '1175802137'}]             5548782  \n",
       "180                                           NaN                 NaN  \n",
       "181  [{'type': 'replied_to', 'id': '1148048666'}]             3225991  \n",
       "\n",
       "[182 rows x 13 columns]"
      ]
     },
     "execution_count": 16,
     "metadata": {},
     "output_type": "execute_result"
    }
   ],
   "source": [
    "pd.DataFrame(emptyData[3])"
   ]
  },
  {
   "cell_type": "code",
   "execution_count": 17,
   "metadata": {},
   "outputs": [],
   "source": [
    "df = pd.DataFrame(emptyData[0])"
   ]
  },
  {
   "cell_type": "code",
   "execution_count": 18,
   "metadata": {},
   "outputs": [],
   "source": [
    "for obj in range(1,len(emptyData)):\n",
    "    df = df.append(pd.DataFrame(emptyData[obj]))\n",
    "    #    pd.concat(df, pd.DataFrame(obj))"
   ]
  },
  {
   "cell_type": "code",
   "execution_count": 19,
   "metadata": {},
   "outputs": [
    {
     "data": {
      "text/plain": [
       "(431406, 17)"
      ]
     },
     "execution_count": 19,
     "metadata": {},
     "output_type": "execute_result"
    }
   ],
   "source": [
    "df.shape"
   ]
  },
  {
   "cell_type": "code",
   "execution_count": 20,
   "metadata": {},
   "outputs": [
    {
     "data": {
      "text/html": [
       "<div>\n",
       "<style scoped>\n",
       "    .dataframe tbody tr th:only-of-type {\n",
       "        vertical-align: middle;\n",
       "    }\n",
       "\n",
       "    .dataframe tbody tr th {\n",
       "        vertical-align: top;\n",
       "    }\n",
       "\n",
       "    .dataframe thead th {\n",
       "        text-align: right;\n",
       "    }\n",
       "</style>\n",
       "<table border=\"1\" class=\"dataframe\">\n",
       "  <thead>\n",
       "    <tr style=\"text-align: right;\">\n",
       "      <th></th>\n",
       "      <th>public_metrics</th>\n",
       "      <th>possibly_sensitive</th>\n",
       "      <th>lang</th>\n",
       "      <th>conversation_id</th>\n",
       "      <th>author_id</th>\n",
       "      <th>reply_settings</th>\n",
       "      <th>entities</th>\n",
       "      <th>source</th>\n",
       "      <th>text</th>\n",
       "      <th>id</th>\n",
       "      <th>created_at</th>\n",
       "      <th>referenced_tweets</th>\n",
       "      <th>in_reply_to_user_id</th>\n",
       "      <th>geo</th>\n",
       "      <th>attachments</th>\n",
       "      <th>context_annotations</th>\n",
       "      <th>withheld</th>\n",
       "    </tr>\n",
       "  </thead>\n",
       "  <tbody>\n",
       "    <tr>\n",
       "      <th>0</th>\n",
       "      <td>{'retweet_count': 0, 'reply_count': 0, 'like_c...</td>\n",
       "      <td>False</td>\n",
       "      <td>en</td>\n",
       "      <td>196991032</td>\n",
       "      <td>5544032</td>\n",
       "      <td>everyone</td>\n",
       "      <td>{'annotations': [{'start': 0, 'end': 4, 'proba...</td>\n",
       "      <td>Twitter Web Client</td>\n",
       "      <td>Bajaj has a new growth engine, literally: Baja...</td>\n",
       "      <td>196991032</td>\n",
       "      <td>2007-08-09T22:13:01.000Z</td>\n",
       "      <td>NaN</td>\n",
       "      <td>NaN</td>\n",
       "      <td>NaN</td>\n",
       "      <td>NaN</td>\n",
       "      <td>NaN</td>\n",
       "      <td>NaN</td>\n",
       "    </tr>\n",
       "    <tr>\n",
       "      <th>1</th>\n",
       "      <td>{'retweet_count': 0, 'reply_count': 0, 'like_c...</td>\n",
       "      <td>False</td>\n",
       "      <td>tl</td>\n",
       "      <td>195910282</td>\n",
       "      <td>5544032</td>\n",
       "      <td>everyone</td>\n",
       "      <td>NaN</td>\n",
       "      <td>Twitter Web Client</td>\n",
       "      <td>Bajaj Auto's DTS-Si engine offers 109km/l: Baj...</td>\n",
       "      <td>195910282</td>\n",
       "      <td>2007-08-09T11:12:34.000Z</td>\n",
       "      <td>NaN</td>\n",
       "      <td>NaN</td>\n",
       "      <td>NaN</td>\n",
       "      <td>NaN</td>\n",
       "      <td>NaN</td>\n",
       "      <td>NaN</td>\n",
       "    </tr>\n",
       "    <tr>\n",
       "      <th>0</th>\n",
       "      <td>{'retweet_count': 0, 'reply_count': 0, 'like_c...</td>\n",
       "      <td>False</td>\n",
       "      <td>en</td>\n",
       "      <td>1062939250</td>\n",
       "      <td>17278675</td>\n",
       "      <td>everyone</td>\n",
       "      <td>NaN</td>\n",
       "      <td>Twitter Web Client</td>\n",
       "      <td>Twin Cities TV viewers: Get ready for digital ...</td>\n",
       "      <td>1062939250</td>\n",
       "      <td>2008-12-17T15:35:56.000Z</td>\n",
       "      <td>NaN</td>\n",
       "      <td>NaN</td>\n",
       "      <td>NaN</td>\n",
       "      <td>NaN</td>\n",
       "      <td>NaN</td>\n",
       "      <td>NaN</td>\n",
       "    </tr>\n",
       "    <tr>\n",
       "      <th>1</th>\n",
       "      <td>{'retweet_count': 0, 'reply_count': 0, 'like_c...</td>\n",
       "      <td>False</td>\n",
       "      <td>en</td>\n",
       "      <td>1061242451</td>\n",
       "      <td>13001192</td>\n",
       "      <td>everyone</td>\n",
       "      <td>NaN</td>\n",
       "      <td>Twitter Web Client</td>\n",
       "      <td>Twin Cities TV viewers: Get ready for digital ...</td>\n",
       "      <td>1061242451</td>\n",
       "      <td>2008-12-16T19:31:41.000Z</td>\n",
       "      <td>NaN</td>\n",
       "      <td>NaN</td>\n",
       "      <td>NaN</td>\n",
       "      <td>NaN</td>\n",
       "      <td>NaN</td>\n",
       "      <td>NaN</td>\n",
       "    </tr>\n",
       "    <tr>\n",
       "      <th>2</th>\n",
       "      <td>{'retweet_count': 0, 'reply_count': 0, 'like_c...</td>\n",
       "      <td>False</td>\n",
       "      <td>en</td>\n",
       "      <td>1001144234</td>\n",
       "      <td>14263808</td>\n",
       "      <td>everyone</td>\n",
       "      <td>{'mentions': [{'start': 0, 'end': 10, 'usernam...</td>\n",
       "      <td>Twitter Web Client</td>\n",
       "      <td>@mitchjoel I would agree and add that products...</td>\n",
       "      <td>1008571783</td>\n",
       "      <td>2008-11-16T20:04:21.000Z</td>\n",
       "      <td>[{'type': 'replied_to', 'id': '1001144234'}]</td>\n",
       "      <td>792907</td>\n",
       "      <td>NaN</td>\n",
       "      <td>NaN</td>\n",
       "      <td>NaN</td>\n",
       "      <td>NaN</td>\n",
       "    </tr>\n",
       "  </tbody>\n",
       "</table>\n",
       "</div>"
      ],
      "text/plain": [
       "                                      public_metrics  possibly_sensitive lang  \\\n",
       "0  {'retweet_count': 0, 'reply_count': 0, 'like_c...               False   en   \n",
       "1  {'retweet_count': 0, 'reply_count': 0, 'like_c...               False   tl   \n",
       "0  {'retweet_count': 0, 'reply_count': 0, 'like_c...               False   en   \n",
       "1  {'retweet_count': 0, 'reply_count': 0, 'like_c...               False   en   \n",
       "2  {'retweet_count': 0, 'reply_count': 0, 'like_c...               False   en   \n",
       "\n",
       "  conversation_id author_id reply_settings  \\\n",
       "0       196991032   5544032       everyone   \n",
       "1       195910282   5544032       everyone   \n",
       "0      1062939250  17278675       everyone   \n",
       "1      1061242451  13001192       everyone   \n",
       "2      1001144234  14263808       everyone   \n",
       "\n",
       "                                            entities              source  \\\n",
       "0  {'annotations': [{'start': 0, 'end': 4, 'proba...  Twitter Web Client   \n",
       "1                                                NaN  Twitter Web Client   \n",
       "0                                                NaN  Twitter Web Client   \n",
       "1                                                NaN  Twitter Web Client   \n",
       "2  {'mentions': [{'start': 0, 'end': 10, 'usernam...  Twitter Web Client   \n",
       "\n",
       "                                                text          id  \\\n",
       "0  Bajaj has a new growth engine, literally: Baja...   196991032   \n",
       "1  Bajaj Auto's DTS-Si engine offers 109km/l: Baj...   195910282   \n",
       "0  Twin Cities TV viewers: Get ready for digital ...  1062939250   \n",
       "1  Twin Cities TV viewers: Get ready for digital ...  1061242451   \n",
       "2  @mitchjoel I would agree and add that products...  1008571783   \n",
       "\n",
       "                 created_at                             referenced_tweets  \\\n",
       "0  2007-08-09T22:13:01.000Z                                           NaN   \n",
       "1  2007-08-09T11:12:34.000Z                                           NaN   \n",
       "0  2008-12-17T15:35:56.000Z                                           NaN   \n",
       "1  2008-12-16T19:31:41.000Z                                           NaN   \n",
       "2  2008-11-16T20:04:21.000Z  [{'type': 'replied_to', 'id': '1001144234'}]   \n",
       "\n",
       "  in_reply_to_user_id  geo attachments context_annotations withheld  \n",
       "0                 NaN  NaN         NaN                 NaN      NaN  \n",
       "1                 NaN  NaN         NaN                 NaN      NaN  \n",
       "0                 NaN  NaN         NaN                 NaN      NaN  \n",
       "1                 NaN  NaN         NaN                 NaN      NaN  \n",
       "2              792907  NaN         NaN                 NaN      NaN  "
      ]
     },
     "execution_count": 20,
     "metadata": {},
     "output_type": "execute_result"
    }
   ],
   "source": [
    "df.head()"
   ]
  },
  {
   "cell_type": "code",
   "execution_count": 21,
   "metadata": {},
   "outputs": [],
   "source": [
    "df_clean = df"
   ]
  },
  {
   "cell_type": "code",
   "execution_count": 22,
   "metadata": {},
   "outputs": [
    {
     "data": {
      "text/plain": [
       "431406"
      ]
     },
     "execution_count": 22,
     "metadata": {},
     "output_type": "execute_result"
    }
   ],
   "source": [
    "len(df_clean)"
   ]
  },
  {
   "cell_type": "code",
   "execution_count": 23,
   "metadata": {},
   "outputs": [],
   "source": [
    "df_clean.to_pickle(\"../dummy.pkl\")"
   ]
  },
  {
   "cell_type": "code",
   "execution_count": 24,
   "metadata": {},
   "outputs": [],
   "source": [
    "df_clean = pd.read_pickle(\"../dummy.pkl\")"
   ]
  },
  {
   "cell_type": "code",
   "execution_count": 25,
   "metadata": {},
   "outputs": [],
   "source": [
    "df_clean = df_clean[['lang','author_id','source','text', 'created_at']]"
   ]
  },
  {
   "cell_type": "code",
   "execution_count": 26,
   "metadata": {},
   "outputs": [],
   "source": [
    "def isRT(text):\n",
    "        if text.startswith(\"RT\"): return \"True\"\n",
    "        else: return \"False\""
   ]
  },
  {
   "cell_type": "code",
   "execution_count": 27,
   "metadata": {},
   "outputs": [
    {
     "ename": "NameError",
     "evalue": "name 'df_clean1' is not defined",
     "output_type": "error",
     "traceback": [
      "\u001b[1;31m---------------------------------------------------------------------------\u001b[0m",
      "\u001b[1;31mNameError\u001b[0m                                 Traceback (most recent call last)",
      "\u001b[1;32m<ipython-input-27-e3d2f89dbb42>\u001b[0m in \u001b[0;36m<module>\u001b[1;34m\u001b[0m\n\u001b[1;32m----> 1\u001b[1;33m \u001b[0mdf_clean\u001b[0m\u001b[1;33m[\u001b[0m\u001b[1;34m'is_RT'\u001b[0m\u001b[1;33m]\u001b[0m \u001b[1;33m=\u001b[0m \u001b[0mdf_clean1\u001b[0m\u001b[1;33m[\u001b[0m\u001b[1;34m'text'\u001b[0m\u001b[1;33m]\u001b[0m\u001b[1;33m.\u001b[0m\u001b[0mmap\u001b[0m\u001b[1;33m(\u001b[0m\u001b[0misRT\u001b[0m\u001b[1;33m)\u001b[0m\u001b[1;33m\u001b[0m\u001b[1;33m\u001b[0m\u001b[0m\n\u001b[0m",
      "\u001b[1;31mNameError\u001b[0m: name 'df_clean1' is not defined"
     ]
    }
   ],
   "source": [
    "df_clean['is_RT'] = df_clean1['text'].map(isRT)"
   ]
  },
  {
   "cell_type": "code",
   "execution_count": null,
   "metadata": {},
   "outputs": [],
   "source": [
    "df_clean = df_clean[df_clean['is_RT']==\"False\"]"
   ]
  },
  {
   "cell_type": "code",
   "execution_count": null,
   "metadata": {},
   "outputs": [],
   "source": [
    "df_clean.shape"
   ]
  },
  {
   "cell_type": "code",
   "execution_count": null,
   "metadata": {},
   "outputs": [],
   "source": [
    "import seaborn as sns\n"
   ]
  },
  {
   "cell_type": "code",
   "execution_count": null,
   "metadata": {},
   "outputs": [],
   "source": [
    "sns.countplot(df_clean['lang'])"
   ]
  },
  {
   "cell_type": "code",
   "execution_count": null,
   "metadata": {},
   "outputs": [],
   "source": [
    "df_lang = df_clean.copy()\n",
    "df_lang = df_lang.groupby('lang').agg({'lang':'count'})\n",
    "df_lang.sort_values(by=\"lang\")"
   ]
  },
  {
   "cell_type": "code",
   "execution_count": null,
   "metadata": {},
   "outputs": [],
   "source": [
    "def tocsv(datframe):\n",
    "    dataframe.to_csv()"
   ]
  },
  {
   "cell_type": "code",
   "execution_count": null,
   "metadata": {},
   "outputs": [],
   "source": [
    "df_clean = df_clean[(df_clean['lang'] == \"en\")]"
   ]
  },
  {
   "cell_type": "code",
   "execution_count": null,
   "metadata": {},
   "outputs": [],
   "source": [
    "df_clean = df_clean.drop(['is_RT'], axis=1)"
   ]
  },
  {
   "cell_type": "code",
   "execution_count": null,
   "metadata": {},
   "outputs": [],
   "source": [
    "df_clean.nunique()"
   ]
  },
  {
   "cell_type": "code",
   "execution_count": null,
   "metadata": {},
   "outputs": [],
   "source": [
    "def createdAt(date):\n",
    "    return date.split('-')[:1][0]\n",
    "    "
   ]
  },
  {
   "cell_type": "code",
   "execution_count": null,
   "metadata": {},
   "outputs": [],
   "source": [
    "df_clean['year'] = df_clean.created_at.map(createdAt)\n",
    "df_clean.head()"
   ]
  },
  {
   "cell_type": "code",
   "execution_count": null,
   "metadata": {},
   "outputs": [],
   "source": [
    "df_clean = df_clean.drop(columns=['created_at', 'lang'], axis=1)"
   ]
  },
  {
   "cell_type": "code",
   "execution_count": null,
   "metadata": {},
   "outputs": [],
   "source": [
    "df_clean.head()"
   ]
  },
  {
   "cell_type": "code",
   "execution_count": null,
   "metadata": {},
   "outputs": [],
   "source": [
    "df_clean['hashtag'] = df_clean['text'].apply(lambda x: re.findall(r\"#(\\w+)\", x))"
   ]
  },
  {
   "cell_type": "markdown",
   "metadata": {},
   "source": [
    "### Clean Text"
   ]
  },
  {
   "cell_type": "code",
   "execution_count": null,
   "metadata": {},
   "outputs": [],
   "source": [
    "text = df_clean['text']"
   ]
  },
  {
   "cell_type": "code",
   "execution_count": null,
   "metadata": {},
   "outputs": [],
   "source": [
    "len(text)"
   ]
  },
  {
   "cell_type": "code",
   "execution_count": null,
   "metadata": {},
   "outputs": [],
   "source": [
    "text.nunique()"
   ]
  },
  {
   "cell_type": "code",
   "execution_count": null,
   "metadata": {},
   "outputs": [],
   "source": [
    "text = text.tolist()"
   ]
  },
  {
   "cell_type": "code",
   "execution_count": null,
   "metadata": {},
   "outputs": [],
   "source": [
    "import preprocessor as p#forming a separate feature for cleaned tweets\n",
    "for i,v in enumerate(text):\n",
    "    text[i] = p.clean(v)"
   ]
  },
  {
   "cell_type": "raw",
   "metadata": {},
   "source": [
    "text[:10]"
   ]
  },
  {
   "cell_type": "code",
   "execution_count": null,
   "metadata": {},
   "outputs": [],
   "source": [
    "from wordcloud import WordCloud, STOPWORDS\n",
    "import matplotlib.pyplot as plt\n",
    "wordcloud = WordCloud(\n",
    "    width = 3000,\n",
    "    height = 2000,\n",
    "    background_color = 'black',\n",
    "    stopwords = STOPWORDS).generate(str(text))\n",
    "fig = plt.figure(\n",
    "    figsize = (40, 30),\n",
    "    facecolor = 'k',\n",
    "    edgecolor = 'k')\n",
    "plt.imshow(wordcloud, interpolation = 'bilinear')\n",
    "plt.axis('off')\n",
    "plt.tight_layout(pad=0)\n",
    "plt.show()"
   ]
  },
  {
   "cell_type": "code",
   "execution_count": null,
   "metadata": {},
   "outputs": [],
   "source": [
    "def preprocess_text(text):\n",
    "    \n",
    "    "
   ]
  }
 ],
 "metadata": {
  "kernelspec": {
   "display_name": "Python 3",
   "language": "python",
   "name": "python3"
  },
  "language_info": {
   "codemirror_mode": {
    "name": "ipython",
    "version": 3
   },
   "file_extension": ".py",
   "mimetype": "text/x-python",
   "name": "python",
   "nbconvert_exporter": "python",
   "pygments_lexer": "ipython3",
   "version": "3.8.5"
  }
 },
 "nbformat": 4,
 "nbformat_minor": 4
}
